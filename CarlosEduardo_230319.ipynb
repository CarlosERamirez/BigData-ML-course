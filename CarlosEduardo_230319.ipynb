{
 "cells": [
  {
   "cell_type": "code",
   "execution_count": 2,
   "metadata": {},
   "outputs": [],
   "source": [
    "from sklearn import preprocessing\n",
    "import pandas as pd\n",
    "import numpy as np\n",
    "\n",
    "df = pd.read_csv(\"flights.csv\", nrows = 1000)\n",
    "df = df[[\"ARRIVAL_DELAY\", \"DEPARTURE_DELAY\", \"DISTANCE\", \"AIR_TIME\"]].dropna()\n",
    "df = df.astype(np.float64)"
   ]
  },
  {
   "cell_type": "code",
   "execution_count": 3,
   "metadata": {},
   "outputs": [
    {
     "data": {
      "text/plain": [
       "array([[-0.68583644, -0.53171035,  0.82633099,  0.54288083],\n",
       "       [-0.26758345, -0.42524416,  2.26631195,  1.81223466],\n",
       "       [ 0.18284283, -0.2123118 ,  2.21080248,  1.85274595],\n",
       "       ...,\n",
       "       [-0.26758345, -0.38975544, -0.49446787, -0.61844288],\n",
       "       [-1.61886232, -0.38975544,  2.43610563,  1.71770831],\n",
       "       [ 0.76196235, -0.42524416, -1.32547729, -1.26662356]])"
      ]
     },
     "execution_count": 3,
     "metadata": {},
     "output_type": "execute_result"
    }
   ],
   "source": [
    "x_scaled = preprocessing.scale(df)\n",
    "x_scaled"
   ]
  },
  {
   "cell_type": "code",
   "execution_count": 4,
   "metadata": {},
   "outputs": [
    {
     "data": {
      "text/plain": [
       "array([-2.32964831e-17,  1.16482416e-17,  6.21239550e-17, -4.27102191e-17])"
      ]
     },
     "execution_count": 4,
     "metadata": {},
     "output_type": "execute_result"
    }
   ],
   "source": [
    "x_scaled.mean(axis = 0)"
   ]
  },
  {
   "cell_type": "code",
   "execution_count": 5,
   "metadata": {},
   "outputs": [
    {
     "data": {
      "text/plain": [
       "array([1., 1., 1., 1.])"
      ]
     },
     "execution_count": 5,
     "metadata": {},
     "output_type": "execute_result"
    }
   ],
   "source": [
    "x_scaled.std(axis = 0)"
   ]
  },
  {
   "cell_type": "code",
   "execution_count": 6,
   "metadata": {},
   "outputs": [
    {
     "data": {
      "text/plain": [
       "ARRIVAL_DELAY         5.0\n",
       "DEPARTURE_DELAY      -2.0\n",
       "DISTANCE           2296.0\n",
       "AIR_TIME            266.0\n",
       "Name: 2, dtype: float64"
      ]
     },
     "execution_count": 6,
     "metadata": {},
     "output_type": "execute_result"
    }
   ],
   "source": [
    "df.iloc[2]#muestra la línea 2 del frame?"
   ]
  },
  {
   "cell_type": "code",
   "execution_count": 7,
   "metadata": {},
   "outputs": [
    {
     "data": {
      "text/plain": [
       "array([ 0.18284283, -0.2123118 ,  2.21080248,  1.85274595])"
      ]
     },
     "execution_count": 7,
     "metadata": {},
     "output_type": "execute_result"
    }
   ],
   "source": [
    "x_scaled[2]"
   ]
  },
  {
   "cell_type": "code",
   "execution_count": 8,
   "metadata": {},
   "outputs": [
    {
     "data": {
      "text/plain": [
       "array([[0.67915691, 0.18324607, 5.12430427, 4.10666667],\n",
       "       [0.98360656, 0.2617801 , 8.39703154, 6.61333333],\n",
       "       [1.31147541, 0.41884817, 8.27087199, 6.69333333],\n",
       "       ...,\n",
       "       [0.98360656, 0.28795812, 2.12244898, 1.81333333],\n",
       "       [0.        , 0.28795812, 8.78293135, 6.42666667],\n",
       "       [1.73302108, 0.2617801 , 0.23376623, 0.53333333]])"
      ]
     },
     "execution_count": 8,
     "metadata": {},
     "output_type": "execute_result"
    }
   ],
   "source": [
    "min_max_scaler = preprocessing.MinMaxScaler([0,10])\n",
    "x_train_minmax = min_max_scaler.fit_transform(df) #ajusta la variable al dataframe?\n",
    "x_train_minmax"
   ]
  },
  {
   "cell_type": "code",
   "execution_count": 9,
   "metadata": {},
   "outputs": [
    {
     "data": {
      "text/html": [
       "<div>\n",
       "<style scoped>\n",
       "    .dataframe tbody tr th:only-of-type {\n",
       "        vertical-align: middle;\n",
       "    }\n",
       "\n",
       "    .dataframe tbody tr th {\n",
       "        vertical-align: top;\n",
       "    }\n",
       "\n",
       "    .dataframe thead th {\n",
       "        text-align: right;\n",
       "    }\n",
       "</style>\n",
       "<table border=\"1\" class=\"dataframe\">\n",
       "  <thead>\n",
       "    <tr style=\"text-align: right;\">\n",
       "      <th></th>\n",
       "      <th>ANC</th>\n",
       "      <th>LAS</th>\n",
       "      <th>LAX</th>\n",
       "      <th>SEA</th>\n",
       "      <th>SFO</th>\n",
       "    </tr>\n",
       "  </thead>\n",
       "  <tbody>\n",
       "    <tr>\n",
       "      <th>0</th>\n",
       "      <td>1</td>\n",
       "      <td>0</td>\n",
       "      <td>0</td>\n",
       "      <td>0</td>\n",
       "      <td>0</td>\n",
       "    </tr>\n",
       "    <tr>\n",
       "      <th>1</th>\n",
       "      <td>0</td>\n",
       "      <td>0</td>\n",
       "      <td>1</td>\n",
       "      <td>0</td>\n",
       "      <td>0</td>\n",
       "    </tr>\n",
       "    <tr>\n",
       "      <th>2</th>\n",
       "      <td>0</td>\n",
       "      <td>0</td>\n",
       "      <td>0</td>\n",
       "      <td>0</td>\n",
       "      <td>1</td>\n",
       "    </tr>\n",
       "    <tr>\n",
       "      <th>3</th>\n",
       "      <td>0</td>\n",
       "      <td>0</td>\n",
       "      <td>1</td>\n",
       "      <td>0</td>\n",
       "      <td>0</td>\n",
       "    </tr>\n",
       "    <tr>\n",
       "      <th>4</th>\n",
       "      <td>0</td>\n",
       "      <td>0</td>\n",
       "      <td>0</td>\n",
       "      <td>1</td>\n",
       "      <td>0</td>\n",
       "    </tr>\n",
       "    <tr>\n",
       "      <th>5</th>\n",
       "      <td>0</td>\n",
       "      <td>0</td>\n",
       "      <td>0</td>\n",
       "      <td>0</td>\n",
       "      <td>1</td>\n",
       "    </tr>\n",
       "    <tr>\n",
       "      <th>6</th>\n",
       "      <td>0</td>\n",
       "      <td>1</td>\n",
       "      <td>0</td>\n",
       "      <td>0</td>\n",
       "      <td>0</td>\n",
       "    </tr>\n",
       "    <tr>\n",
       "      <th>7</th>\n",
       "      <td>0</td>\n",
       "      <td>0</td>\n",
       "      <td>1</td>\n",
       "      <td>0</td>\n",
       "      <td>0</td>\n",
       "    </tr>\n",
       "    <tr>\n",
       "      <th>8</th>\n",
       "      <td>0</td>\n",
       "      <td>0</td>\n",
       "      <td>0</td>\n",
       "      <td>0</td>\n",
       "      <td>1</td>\n",
       "    </tr>\n",
       "    <tr>\n",
       "      <th>9</th>\n",
       "      <td>0</td>\n",
       "      <td>1</td>\n",
       "      <td>0</td>\n",
       "      <td>0</td>\n",
       "      <td>0</td>\n",
       "    </tr>\n",
       "  </tbody>\n",
       "</table>\n",
       "</div>"
      ],
      "text/plain": [
       "   ANC  LAS  LAX  SEA  SFO\n",
       "0    1    0    0    0    0\n",
       "1    0    0    1    0    0\n",
       "2    0    0    0    0    1\n",
       "3    0    0    1    0    0\n",
       "4    0    0    0    1    0\n",
       "5    0    0    0    0    1\n",
       "6    0    1    0    0    0\n",
       "7    0    0    1    0    0\n",
       "8    0    0    0    0    1\n",
       "9    0    1    0    0    0"
      ]
     },
     "execution_count": 9,
     "metadata": {},
     "output_type": "execute_result"
    }
   ],
   "source": [
    "#TRANSFORMACIÓN DE VARIABLES CATEGÓRICAS\n",
    "df2 = pd.read_csv(\"flights.csv\", nrows = 10)\n",
    "pd.get_dummies(df2[\"ORIGIN_AIRPORT\"])"
   ]
  },
  {
   "cell_type": "code",
   "execution_count": 10,
   "metadata": {},
   "outputs": [],
   "source": [
    "#KMEANS\n",
    "from sklearn.cluster import KMeans\n",
    "import matplotlib.pyplot as plt\n",
    "\n",
    "df = pd.read_csv(\"flights.csv\", nrows = 1000)\n",
    "newdf = df[[\"DEPARTURE_DELAY\", \"AIR_TIME\"]].dropna()\n",
    "newdf = newdf.astype(np.float64)"
   ]
  },
  {
   "cell_type": "code",
   "execution_count": 11,
   "metadata": {},
   "outputs": [
    {
     "data": {
      "text/plain": [
       "array([0, 1, 1, 1, 0, 0, 0, 1, 0, 0, 0, 1, 0, 0, 0, 0, 0, 0, 0, 0, 0, 1,\n",
       "       0, 1, 0, 0, 0, 0, 0, 0, 3, 1, 0, 0, 1, 1, 1, 0, 1, 0, 2, 0, 0, 1,\n",
       "       0, 0, 0, 1, 0, 1, 3, 0, 0, 1, 1, 2, 2, 2, 2, 0, 2, 0, 2, 0, 2, 2,\n",
       "       0, 3, 0, 0, 0, 0, 2, 2, 2, 2, 2, 2, 2, 1, 0, 0, 2, 2, 0, 0, 0, 0,\n",
       "       0, 0, 2, 2, 0, 2, 2, 2, 2, 0, 0, 2, 2, 3, 2, 2, 2, 0, 0, 0, 2, 0,\n",
       "       2, 0, 1, 0, 2, 0, 0, 2, 0, 2, 2, 0, 2, 3, 0, 2, 2, 1, 1, 0, 0, 2,\n",
       "       2, 0, 2, 0, 2, 0, 0, 2, 0, 0, 0, 0, 0, 0, 2, 0, 1, 0, 1, 1, 2, 2,\n",
       "       2, 2, 2, 3, 2, 2, 0, 0, 3, 2, 0, 3, 0, 0, 2, 2, 2, 0, 0, 0, 0, 2,\n",
       "       1, 2, 2, 0, 2, 1, 1, 0, 1, 0, 2, 0, 1, 1, 0, 0, 1, 2, 0, 0, 0, 0,\n",
       "       0, 0, 2, 2, 2, 3, 2, 0, 0, 0, 0, 0, 2, 0, 2, 2, 0, 2, 2, 2, 2, 0,\n",
       "       0, 0, 2, 0, 0, 0, 0, 0, 2, 0, 0, 0, 0, 1, 0, 0, 1, 0, 0, 2, 0, 2,\n",
       "       2, 2, 0, 0, 2, 1, 2, 3, 2, 1, 0, 2, 1, 0, 0, 2, 0, 2, 2, 2, 2, 0,\n",
       "       0, 1, 2, 0, 0, 3, 0, 0, 2, 2, 2, 2, 2, 2, 2, 2, 2, 2, 2, 0, 1, 0,\n",
       "       1, 0, 2, 2, 2, 0, 2, 2, 2, 0, 3, 2, 0, 2, 2, 0, 2, 2, 2, 1, 0, 0,\n",
       "       2, 2, 2, 2, 2, 2, 0, 0, 2, 2, 2, 2, 2, 2, 2, 2, 2, 2, 2, 2, 0, 1,\n",
       "       0, 1, 2, 2, 2, 3, 2, 1, 2, 2, 2, 2, 0, 1, 1, 0, 0, 0, 0, 2, 0, 2,\n",
       "       0, 2, 0, 0, 2, 0, 2, 0, 2, 0, 0, 3, 0, 2, 2, 0, 2, 0, 2, 2, 2, 0,\n",
       "       2, 0, 0, 2, 0, 2, 0, 0, 0, 2, 2, 2, 2, 2, 1, 1, 2, 0, 0, 0, 0, 2,\n",
       "       0, 2, 1, 0, 2, 1, 2, 3, 0, 2, 2, 0, 0, 2, 0, 2, 0, 0, 2, 2, 0, 0,\n",
       "       2, 2, 2, 0, 3, 2, 0, 2, 0, 0, 2, 1, 0, 2, 2, 2, 2, 2, 0, 1, 0, 3,\n",
       "       2, 2, 0, 2, 2, 2, 2, 3, 2, 2, 0, 2, 2, 2, 2, 2, 2, 2, 2, 2, 2, 2,\n",
       "       0, 0, 0, 2, 0, 0, 0, 0, 1, 0, 2, 0, 1, 2, 0, 0, 0, 0, 2, 0, 2, 0,\n",
       "       0, 2, 0, 0, 0, 2, 2, 2, 0, 2, 2, 2, 2, 0, 1, 2, 2, 0, 0, 1, 1, 0,\n",
       "       0, 3, 0, 0, 2, 0, 0, 0, 2, 0, 2, 2, 2, 0, 0, 2, 2, 2, 2, 2, 2, 2,\n",
       "       0, 0, 2, 1, 2, 2, 1, 2, 1, 0, 1, 2, 1, 2, 3, 2, 0, 1, 2, 0, 0, 1,\n",
       "       0, 0, 2, 1, 0, 2, 0, 2, 0, 1, 0, 2, 2, 2, 0, 2, 3, 1, 2, 0, 2, 2,\n",
       "       2, 2, 2, 1, 2, 0, 2, 2, 0, 2, 0, 1, 2, 1, 2, 0, 0, 2, 0, 0, 2, 0,\n",
       "       0, 1, 2, 2, 0, 0, 2, 2, 0, 1, 2, 2, 2, 2, 2, 0, 1, 1, 0, 2, 1, 2,\n",
       "       2, 0, 2, 0, 0, 0, 1, 2, 0, 2, 0, 0, 0, 2, 2, 2, 2, 2, 2, 3, 2, 0,\n",
       "       2, 2, 0, 2, 0, 0, 2, 2, 2, 2, 0, 0, 0, 2, 2, 1, 0, 2, 0, 0, 0, 2,\n",
       "       0, 0, 0, 2, 0, 2, 2, 2, 1, 2, 2, 2, 2, 0, 0, 0, 0, 2, 2, 2, 2, 0,\n",
       "       2, 2, 2, 2, 0, 2, 2, 0, 0, 2, 0, 0, 1, 2, 2, 1, 2, 3, 0, 0, 2, 0,\n",
       "       0, 2, 2, 1, 2, 2, 2, 2, 2, 0, 3, 2, 2, 2, 0, 1, 0, 0, 2, 2, 2, 0,\n",
       "       2, 2, 2, 0, 0, 1, 1, 1, 0, 0, 1, 2, 0, 2, 2, 0, 2, 2, 2, 2, 0, 1,\n",
       "       1, 2, 0, 0, 1, 0, 0, 2, 0, 2, 0, 2, 2, 2, 2, 2, 0, 0, 1, 0, 1, 0,\n",
       "       0, 1, 2, 0, 0, 1, 1, 0, 0, 0, 0, 2, 0, 2, 2, 3, 1, 1, 2, 2, 2, 1,\n",
       "       1, 2, 1, 1, 1, 1, 2, 0, 0, 0, 0, 3, 0, 1, 0, 0, 1, 2, 0, 1, 0, 0,\n",
       "       2, 2, 2, 2, 0, 0, 0, 3, 0, 0, 2, 1, 1, 1, 1, 2, 1, 0, 3, 0, 1, 1,\n",
       "       0, 0, 1, 1, 1, 1, 2, 2, 2, 2, 0, 0, 0, 0, 0, 0, 0, 2, 0, 0, 2, 2,\n",
       "       1, 0, 1, 1, 0, 0, 3, 2, 2, 2, 2, 2, 0, 1, 0, 0, 1, 2, 0, 2, 0, 0,\n",
       "       0, 2, 0, 2, 2, 2, 2, 2, 2, 0, 2, 2, 0, 0, 2, 0, 2, 0, 0, 2, 1, 1,\n",
       "       0, 0, 0, 0, 0, 1, 0, 1, 2, 0, 2, 1, 2], dtype=int32)"
      ]
     },
     "execution_count": 11,
     "metadata": {},
     "output_type": "execute_result"
    }
   ],
   "source": [
    "kmeans = KMeans(n_clusters = 4, n_jobs = -1).fit(newdf)\n",
    "kmeans.labels_"
   ]
  },
  {
   "cell_type": "code",
   "execution_count": 12,
   "metadata": {},
   "outputs": [
    {
     "data": {
      "text/plain": [
       "(array([0, 1, 2, 3], dtype=int32), array([375, 125, 386,  29]))"
      ]
     },
     "execution_count": 12,
     "metadata": {},
     "output_type": "execute_result"
    }
   ],
   "source": [
    "np.unique(kmeans.labels_, return_counts = True)"
   ]
  },
  {
   "cell_type": "code",
   "execution_count": 13,
   "metadata": {},
   "outputs": [
    {
     "data": {
      "image/png": "[encoded data removed]",
      "text/plain": [
       "<Figure size 432x288 with 1 Axes>"
      ]
     },
     "metadata": {
      "needs_background": "light"
     },
     "output_type": "display_data"
    }
   ],
   "source": [
    "plt.scatter(newdf[\"DEPARTURE_DELAY\"], newdf[\"AIR_TIME\"], c = kmeans.labels_)\n",
    "plt.show()"
   ]
  },
  {
   "cell_type": "code",
   "execution_count": 14,
   "metadata": {},
   "outputs": [
    {
     "data": {
      "text/plain": [
       "array([[ 2.61333333e-01,  1.47394667e+02],\n",
       "       [ 2.48000000e-01,  2.69136000e+02],\n",
       "       [-6.21761658e-01,  6.48056995e+01],\n",
       "       [ 1.29482759e+02,  1.35172414e+02]])"
      ]
     },
     "execution_count": 14,
     "metadata": {},
     "output_type": "execute_result"
    }
   ],
   "source": [
    "kmeans.cluster_centers_"
   ]
  },
  {
   "cell_type": "code",
   "execution_count": 15,
   "metadata": {},
   "outputs": [
    {
     "data": {
      "text/plain": [
       "array([0, 1, 1, 1, 0, 0, 0, 1, 0, 0, 0, 1, 0, 0, 0, 0, 0, 0, 0, 0, 0, 1,\n",
       "       0, 1, 0, 0, 0, 0, 0, 0, 3, 1, 0, 0, 1, 1, 1, 0, 1, 0, 2, 0, 0, 1,\n",
       "       0, 0, 0, 1, 0, 1], dtype=int32)"
      ]
     },
     "execution_count": 15,
     "metadata": {},
     "output_type": "execute_result"
    }
   ],
   "source": [
    "alldf = pd.read_csv(\"flights.csv\", nrows = 10000)[[\"DEPARTURE_DELAY\", \"AIR_TIME\"]].dropna()\n",
    "kmeans.predict(alldf)[0:50]"
   ]
  },
  {
   "cell_type": "code",
   "execution_count": 16,
   "metadata": {},
   "outputs": [
    {
     "data": {
      "text/plain": [
       "array([1, 3, 3, 3, 1, 1, 1, 3, 1, 1, 2, 3, 1, 1, 1, 1, 1, 1, 1, 1, 2, 3,\n",
       "       2, 3, 1, 1, 1, 1, 1, 1, 1, 3, 1, 2, 3, 3, 1, 1, 1, 1, 2, 1, 2, 1,\n",
       "       1, 1, 2, 1, 2, 1, 2, 2, 2, 1, 1, 0, 0, 0, 0, 1, 0, 2, 0, 2, 0, 0,\n",
       "       2, 2, 1, 2, 2, 2, 0, 0, 0, 0, 0, 0, 0, 1, 2, 2, 0, 0, 2, 2, 2, 2,\n",
       "       2, 2, 0, 0, 1, 0, 0, 0, 0, 2, 2, 0, 2, 1, 2, 0, 0, 2, 2, 2, 0, 2,\n",
       "       0, 2, 1, 2, 0, 2, 2, 0, 1, 2, 0, 2, 2, 2, 2, 0, 0, 3, 1, 2, 2, 0,\n",
       "       0, 2, 0, 2, 0, 2, 0, 0, 2, 2, 1, 2, 2, 2, 2, 2, 3, 2, 1, 1, 0, 0,\n",
       "       0, 0, 0, 0, 0, 2, 1, 2, 2, 2, 2, 2, 2, 2, 0, 0, 0, 2, 2, 2, 2, 0,\n",
       "       3, 2, 0, 2, 0, 3, 1, 2, 1, 2, 0, 2, 3, 3, 1, 2, 1, 0, 2, 2, 2, 2,\n",
       "       2, 1, 2, 0, 0, 2, 0, 2, 2, 1, 2, 1, 2, 1, 0, 0, 1, 0, 2, 2, 0, 2,\n",
       "       2, 2, 0, 2, 2, 2, 2, 2, 0, 2, 2, 2, 2, 1, 2, 1, 1, 2, 2, 0, 2, 0,\n",
       "       0, 0, 2, 2, 0, 3, 2, 1, 0, 1, 2, 0, 1, 2, 1, 2, 1, 0, 2, 0, 0, 2,\n",
       "       2, 1, 0, 2, 2, 2, 2, 0, 0, 0, 0, 0, 0, 0, 2, 0, 0, 0, 0, 2, 1, 2,\n",
       "       1, 2, 2, 0, 0, 2, 0, 0, 0, 1, 2, 0, 2, 0, 0, 2, 0, 0, 0, 1, 2, 2,\n",
       "       0, 2, 0, 0, 0, 0, 2, 2, 0, 0, 0, 0, 0, 0, 0, 0, 0, 0, 0, 0, 2, 3,\n",
       "       2, 3, 0, 0, 0, 2, 0, 3, 0, 0, 0, 0, 1, 3, 3, 2, 2, 2, 2, 2, 2, 0,\n",
       "       2, 0, 2, 2, 2, 2, 0, 2, 0, 2, 2, 2, 2, 0, 0, 2, 0, 2, 0, 0, 0, 2,\n",
       "       0, 1, 2, 0, 2, 0, 2, 2, 0, 0, 0, 0, 0, 0, 3, 3, 0, 2, 2, 1, 1, 2,\n",
       "       2, 0, 3, 2, 0, 1, 2, 1, 2, 0, 0, 2, 2, 0, 2, 0, 2, 2, 0, 0, 1, 1,\n",
       "       0, 0, 0, 1, 0, 2, 2, 0, 2, 2, 0, 1, 2, 0, 0, 0, 0, 0, 2, 3, 2, 0,\n",
       "       0, 0, 2, 0, 0, 0, 0, 0, 0, 0, 2, 0, 0, 0, 0, 0, 0, 0, 0, 2, 0, 0,\n",
       "       2, 2, 2, 0, 1, 2, 2, 2, 3, 1, 0, 2, 3, 0, 1, 2, 2, 2, 2, 2, 0, 2,\n",
       "       2, 0, 2, 2, 2, 0, 0, 0, 2, 0, 0, 0, 0, 2, 1, 0, 0, 2, 2, 1, 3, 2,\n",
       "       2, 1, 2, 2, 0, 1, 2, 2, 0, 2, 0, 0, 0, 2, 0, 0, 0, 0, 0, 0, 0, 0,\n",
       "       1, 2, 0, 3, 0, 0, 3, 0, 1, 2, 3, 0, 3, 0, 0, 0, 2, 1, 0, 2, 2, 3,\n",
       "       2, 2, 0, 3, 2, 2, 2, 0, 2, 3, 2, 0, 0, 0, 2, 0, 1, 1, 0, 2, 0, 0,\n",
       "       0, 2, 0, 1, 0, 2, 0, 0, 2, 0, 2, 3, 2, 1, 0, 2, 2, 0, 2, 2, 2, 2,\n",
       "       2, 3, 0, 0, 1, 2, 0, 2, 2, 1, 0, 0, 0, 0, 2, 2, 3, 1, 1, 0, 3, 2,\n",
       "       0, 2, 0, 2, 2, 2, 1, 0, 2, 0, 2, 2, 1, 0, 0, 0, 0, 0, 2, 2, 0, 2,\n",
       "       2, 0, 2, 0, 1, 1, 0, 0, 2, 0, 2, 2, 1, 2, 0, 1, 1, 2, 1, 2, 2, 0,\n",
       "       0, 2, 1, 0, 1, 2, 0, 0, 3, 0, 0, 2, 0, 2, 2, 2, 0, 0, 0, 0, 0, 2,\n",
       "       0, 0, 0, 0, 1, 0, 0, 2, 2, 0, 2, 2, 3, 0, 0, 1, 0, 2, 2, 2, 2, 2,\n",
       "       2, 0, 0, 3, 0, 0, 0, 0, 0, 2, 1, 0, 0, 0, 2, 1, 2, 1, 0, 0, 0, 2,\n",
       "       0, 0, 0, 2, 2, 3, 1, 3, 1, 2, 3, 0, 1, 2, 0, 1, 0, 0, 0, 0, 2, 3,\n",
       "       3, 0, 2, 2, 3, 2, 2, 0, 2, 0, 2, 0, 0, 0, 2, 0, 2, 2, 1, 2, 3, 2,\n",
       "       1, 3, 0, 2, 2, 3, 1, 2, 2, 2, 2, 0, 2, 2, 2, 3, 1, 1, 0, 0, 2, 3,\n",
       "       3, 0, 3, 3, 3, 3, 0, 2, 1, 2, 2, 2, 2, 3, 1, 2, 1, 2, 2, 3, 1, 1,\n",
       "       0, 2, 0, 0, 2, 2, 2, 2, 2, 2, 0, 3, 3, 3, 3, 0, 3, 2, 2, 2, 1, 1,\n",
       "       2, 2, 3, 3, 1, 3, 0, 0, 0, 0, 2, 1, 2, 1, 2, 2, 2, 0, 2, 1, 2, 0,\n",
       "       3, 2, 3, 3, 1, 1, 2, 0, 0, 0, 0, 0, 2, 1, 2, 1, 1, 0, 2, 0, 2, 2,\n",
       "       2, 0, 2, 0, 0, 0, 0, 0, 0, 1, 0, 0, 2, 1, 0, 2, 0, 2, 2, 0, 1, 3,\n",
       "       2, 2, 2, 2, 2, 3, 2, 1, 0, 2, 0, 3, 0], dtype=int32)"
      ]
     },
     "execution_count": 16,
     "metadata": {},
     "output_type": "execute_result"
    }
   ],
   "source": [
    "new2df = df[[\"AIR_TIME\", \"DISTANCE\", \"TAXI_OUT\", \"ARRIVAL_DELAY\", \"DEPARTURE_DELAY\"]].dropna()\n",
    "kmeans = KMeans(n_clusters = 4, n_jobs = -1).fit(new2df)\n",
    "kmeans.labels_"
   ]
  },
  {
   "cell_type": "code",
   "execution_count": 17,
   "metadata": {},
   "outputs": [
    {
     "data": {
      "image/png": "[encoded data removed]",
      "text/plain": [
       "<Figure size 432x288 with 1 Axes>"
      ]
     },
     "metadata": {
      "needs_background": "light"
     },
     "output_type": "display_data"
    }
   ],
   "source": [
    "plt.scatter(new2df[\"DEPARTURE_DELAY\"], new2df[\"AIR_TIME\"], c = kmeans.labels_)\n",
    "plt.show()"
   ]
  },
  {
   "cell_type": "code",
   "execution_count": 18,
   "metadata": {},
   "outputs": [],
   "source": [
    "#HIERARCHICAL CLUSTERING\n",
    "from sklearn.cluster import AgglomerativeClustering\n",
    "\n",
    "df = pd.read_csv(\"flights.csv\", nrows = 1000)\n",
    "newdf = df[[\"AIR_TIME\", \"DEPARTURE_DELAY\"]].dropna()"
   ]
  },
  {
   "cell_type": "code",
   "execution_count": 20,
   "metadata": {},
   "outputs": [
    {
     "data": {
      "text/plain": [
       "AgglomerativeClustering(affinity='euclidean', compute_full_tree='auto',\n",
       "            connectivity=None, linkage='ward', memory=None, n_clusters=5,\n",
       "            pooling_func='deprecated')"
      ]
     },
     "execution_count": 20,
     "metadata": {},
     "output_type": "execute_result"
    }
   ],
   "source": [
    "clstr = AgglomerativeClustering(n_clusters = 5)\n",
    "clstr.fit(newdf)"
   ]
  },
  {
   "cell_type": "code",
   "execution_count": 21,
   "metadata": {},
   "outputs": [
    {
     "data": {
      "image/png": "[encoded data removed]",
      "text/plain": [
       "<Figure size 432x288 with 1 Axes>"
      ]
     },
     "metadata": {
      "needs_background": "light"
     },
     "output_type": "display_data"
    }
   ],
   "source": [
    "plt.scatter(newdf[\"AIR_TIME\"], newdf[\"DEPARTURE_DELAY\"], c = clstr.fit_predict(newdf))\n",
    "plt.show()"
   ]
  },
  {
   "cell_type": "code",
   "execution_count": 23,
   "metadata": {},
   "outputs": [
    {
     "data": {
      "text/plain": [
       "array([3, 2, 2, 2, 2, 2, 3, 2, 3, 3])"
      ]
     },
     "execution_count": 23,
     "metadata": {},
     "output_type": "execute_result"
    }
   ],
   "source": [
    "nnewdf = pd.read_csv(\"flights.csv\", nrows = 1000)[[\"DEPARTURE_DELAY\", \"AIR_TIME\"]].dropna()\n",
    "clstr.fit_predict(nnewdf)[0:10]"
   ]
  }
 ],
 "metadata": {
  "kernelspec": {
   "display_name": "Python 3",
   "language": "python",
   "name": "python3"
  },
  "language_info": {
   "codemirror_mode": {
    "name": "ipython",
    "version": 3
   },
   "file_extension": ".py",
   "mimetype": "text/x-python",
   "name": "python",
   "nbconvert_exporter": "python",
   "pygments_lexer": "ipython3",
   "version": "3.6.7"
  }
 },
 "nbformat": 4,
 "nbformat_minor": 2
}
