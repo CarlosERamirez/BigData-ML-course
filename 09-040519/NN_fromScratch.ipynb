{
 "cells": [
  {
   "cell_type": "code",
   "execution_count": 17,
   "metadata": {},
   "outputs": [
    {
     "name": "stdout",
     "output_type": "stream",
     "text": [
      "weights\n",
      "[[-7.59589238]\n",
      " [ 1.44373355]\n",
      " [ 2.25454588]\n",
      " [ 2.3023413 ]]\n",
      "resultados\n",
      "[0.00984877]\n"
     ]
    }
   ],
   "source": [
    "import numpy as np\n",
    "\n",
    "class NeuralNetwork:\n",
    "    def __init__(self, x, y):\n",
    "        self.input = x #capa de entrada\n",
    "        #relaciones entre las entradas y las neuronas\n",
    "        self.weights1 = np.random.rand(self.input.shape[1], 4)\n",
    "        #relaciones entre las neuronas y la salida\n",
    "        self.weights2 = np.random.rand(4, 1)\n",
    "        self.y = y #capa de salida\n",
    "        self.output = np.zeros(y.shape) #salida\n",
    "    \n",
    "    #función de activación\n",
    "    def sigmoid(self, x):\n",
    "        return 1/(1 + np.exp(-x))\n",
    "        \n",
    "    #función feed-forward para NN de una capa oculta\n",
    "    def feedforward(self):\n",
    "        #dot product\n",
    "        self.layer1 = self.sigmoid(np.dot(self.input, self.weights1))\n",
    "        self.output = self.sigmoid(np.dot(self.layer1, self.weights2))\n",
    "    \n",
    "    #función de retropropagación\n",
    "    def backprop(self):\n",
    "        #aplicando la regla de la cadena: derivada de pérdida respecto a pesos\n",
    "        d_weights2 = np.dot(self.layer1.T, (2*(self.y - self.output)*self.sigmoid_derivative(self.output)))\n",
    "        d_weights1 = np.dot(self.input.T, (np.dot(2*(self.y - self.output)*self.sigmoid_derivative(self.output), self.weights2.T)*self.sigmoid_derivative(self.layer1)))\n",
    "        \n",
    "        #actualización de pesos sinápticos\n",
    "        self.weights1 += d_weights1\n",
    "        self.weights2 += d_weights2\n",
    "        \n",
    "    def sigmoid_derivative(self, x):\n",
    "        return x*(1 - x)\n",
    "    \n",
    "    def think(self, x1):\n",
    "        self.input = x1\n",
    "        self.feedforward()\n",
    "        return self.output\n",
    "    \n",
    "if __name__ == \"__main__\":\n",
    "    training_inputs = np.array([[0, 0, 1],\n",
    "                               [1, 1, 1],\n",
    "                               [1, 0, 1],\n",
    "                               [0, 1, 1]])\n",
    "    \n",
    "    training_outputs = np.array([[0, 1, 1, 0]]).T\n",
    "    #inicializamos la clase\n",
    "    neural_network = NeuralNetwork(training_inputs, training_outputs)\n",
    "    \n",
    "    for i in range(1500):\n",
    "        neural_network.feedforward()\n",
    "        neural_network.backprop()\n",
    "        \n",
    "    print(\"weights\")\n",
    "    print(neural_network.weights2)\n",
    "    new_input = np.array([0, 1, 1])\n",
    "    print(\"resultados\")\n",
    "    print(neural_network.think(new_input))"
   ]
  }
 ],
 "metadata": {
  "kernelspec": {
   "display_name": "Python 3",
   "language": "python",
   "name": "python3"
  }
 },
 "nbformat": 4,
 "nbformat_minor": 2
}
