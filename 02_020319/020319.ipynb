{
 "cells": [
  {
   "cell_type": "code",
   "execution_count": 1,
   "metadata": {},
   "outputs": [],
   "source": [
    "import pymongo as pm"
   ]
  },
  {
   "cell_type": "code",
   "execution_count": 2,
   "metadata": {},
   "outputs": [],
   "source": [
    "myclient = pm.MongoClient('localhost',27017)\n",
    "\n",
    "#crear base de datos\n",
    "mydb = myclient[\"mydatabase\"]"
   ]
  },
  {
   "cell_type": "code",
   "execution_count": 3,
   "metadata": {},
   "outputs": [],
   "source": [
    "#crear colección\n",
    "mycol = mydb[\"customers\"]"
   ]
  },
  {
   "cell_type": "code",
   "execution_count": 4,
   "metadata": {},
   "outputs": [],
   "source": [
    "mylist = [\n",
    "    {\"name\":\"Amy\",\"adress\":\"Apple st 652\"},\n",
    "    {\"name\":\"Hannah\",\"adress\":\"Mountain 21\"},\n",
    "    {\"name\":\"Michael\",\"adress\":\"Valley 345\"},\n",
    "    {\"name\":\"Sandy\",\"adress\":\"Ocean blvd 2\"},\n",
    "    {\"name\":\"Betty\",\"adress\":\"Green Grass 1\"},\n",
    "    {\"name\":\"Richard\",\"adress\":\"Sky st 331\"},\n",
    "    {\"name\":\"Susan\",\"adress\":\"One way 98\"},\n",
    "    {\"name\":\"Vicky\",\"adress\":\"Yellow garden 2\"},\n",
    "    {\"name\":\"Ben\",\"adress\":\"Park Lane 38\"},\n",
    "    {\"name\":\"William\",\"adress\":\"Central st 954\"},\n",
    "    {\"name\":\"Chuck\",\"adress\":\"Main Road 989\"},\n",
    "    {\"name\":\"Viola\",\"adress\":\"Sideway 1633\"}\n",
    "]\n",
    "\n",
    "#insertar anteriores elementos a la colección\n",
    "x = mycol.insert_many(mylist)"
   ]
  },
  {
   "cell_type": "code",
   "execution_count": 5,
   "metadata": {},
   "outputs": [
    {
     "name": "stdout",
     "output_type": "stream",
     "text": [
      "['customers']\n"
     ]
    }
   ],
   "source": [
    "#qué colecciones hay en la db\n",
    "print(mydb.list_collection_names())"
   ]
  },
  {
   "cell_type": "code",
   "execution_count": 6,
   "metadata": {},
   "outputs": [
    {
     "name": "stdout",
     "output_type": "stream",
     "text": [
      "5ccd34e101b8e40b082d1166\n"
     ]
    }
   ],
   "source": [
    "#insertar sólo un documento\n",
    "mydict = {\"name\":\"John\",\"adress\":\"Highway 37\"}\n",
    "x = mycol.insert_one(mydict)\n",
    "\n",
    "#ID del elemntos insertado\n",
    "print(x.inserted_id)"
   ]
  },
  {
   "cell_type": "code",
   "execution_count": 7,
   "metadata": {},
   "outputs": [
    {
     "name": "stdout",
     "output_type": "stream",
     "text": [
      "{'_id': ObjectId('5ccd347401b8e40b082d115a'), 'name': 'Amy', 'adress': 'Apple st 652'}\n",
      "{'_id': ObjectId('5ccd347401b8e40b082d115b'), 'name': 'Hannah', 'adress': 'Mountain 21'}\n",
      "{'_id': ObjectId('5ccd347401b8e40b082d115c'), 'name': 'Michael', 'adress': 'Valley 345'}\n",
      "{'_id': ObjectId('5ccd347401b8e40b082d115d'), 'name': 'Sandy', 'adress': 'Ocean blvd 2'}\n",
      "{'_id': ObjectId('5ccd347401b8e40b082d115e'), 'name': 'Betty', 'adress': 'Green Grass 1'}\n",
      "{'_id': ObjectId('5ccd347401b8e40b082d115f'), 'name': 'Richard', 'adress': 'Sky st 331'}\n",
      "{'_id': ObjectId('5ccd347401b8e40b082d1160'), 'name': 'Susan', 'adress': 'One way 98'}\n",
      "{'_id': ObjectId('5ccd347401b8e40b082d1161'), 'name': 'Vicky', 'adress': 'Yellow garden 2'}\n",
      "{'_id': ObjectId('5ccd347401b8e40b082d1162'), 'name': 'Ben', 'adress': 'Park Lane 38'}\n",
      "{'_id': ObjectId('5ccd347401b8e40b082d1163'), 'name': 'William', 'adress': 'Central st 954'}\n",
      "{'_id': ObjectId('5ccd347401b8e40b082d1164'), 'name': 'Chuck', 'adress': 'Main Road 989'}\n",
      "{'_id': ObjectId('5ccd347401b8e40b082d1165'), 'name': 'Viola', 'adress': 'Sideway 1633'}\n",
      "{'_id': ObjectId('5ccd34e101b8e40b082d1166'), 'name': 'John', 'adress': 'Highway 37'}\n"
     ]
    }
   ],
   "source": [
    "#mostrar todos los elementos de la colección\n",
    "for x in mycol.find():\n",
    " print(x)"
   ]
  },
  {
   "cell_type": "code",
   "execution_count": 9,
   "metadata": {},
   "outputs": [
    {
     "name": "stdout",
     "output_type": "stream",
     "text": [
      "{'name': 'Amy', 'adress': 'Apple st 652'}\n",
      "{'name': 'Hannah', 'adress': 'Mountain 21'}\n",
      "{'name': 'Michael', 'adress': 'Valley 345'}\n",
      "{'name': 'Sandy', 'adress': 'Ocean blvd 2'}\n",
      "{'name': 'Betty', 'adress': 'Green Grass 1'}\n",
      "{'name': 'Richard', 'adress': 'Sky st 331'}\n",
      "{'name': 'Susan', 'adress': 'One way 98'}\n",
      "{'name': 'Vicky', 'adress': 'Yellow garden 2'}\n",
      "{'name': 'Ben', 'adress': 'Park Lane 38'}\n",
      "{'name': 'William', 'adress': 'Central st 954'}\n",
      "{'name': 'Chuck', 'adress': 'Main Road 989'}\n",
      "{'name': 'Viola', 'adress': 'Sideway 1633'}\n",
      "{'name': 'John', 'adress': 'Highway 37'}\n"
     ]
    }
   ],
   "source": [
    "#mostrar ID: no, NAME: sí, ADRESS: sí\n",
    "for x in mycol.find({},{\"_id\":0, \"name\":1, \"adress\":1}):\n",
    "    print(x)"
   ]
  },
  {
   "cell_type": "code",
   "execution_count": 10,
   "metadata": {},
   "outputs": [
    {
     "name": "stdout",
     "output_type": "stream",
     "text": [
      "{'_id': ObjectId('5ccd347401b8e40b082d1162'), 'name': 'Ben', 'adress': 'Park Lane 38'}\n"
     ]
    }
   ],
   "source": [
    "#encontrar un elemento en particular\n",
    "myquery = {\"adress\":\"Park Lane 38\"}\n",
    "mydoc = mycol.find(myquery)\n",
    "\n",
    "for x in mydoc:\n",
    "    print(x)"
   ]
  },
  {
   "cell_type": "code",
   "execution_count": 11,
   "metadata": {},
   "outputs": [],
   "source": [
    "import pandas as pd"
   ]
  },
  {
   "cell_type": "code",
   "execution_count": 12,
   "metadata": {},
   "outputs": [],
   "source": [
    "datos = pd.read_excel(\"../todoslosmeses.xlsx\")"
   ]
  },
  {
   "cell_type": "code",
   "execution_count": 13,
   "metadata": {},
   "outputs": [
    {
     "data": {
      "text/html": [
       "<div>\n",
       "<style scoped>\n",
       "    .dataframe tbody tr th:only-of-type {\n",
       "        vertical-align: middle;\n",
       "    }\n",
       "\n",
       "    .dataframe tbody tr th {\n",
       "        vertical-align: top;\n",
       "    }\n",
       "\n",
       "    .dataframe thead th {\n",
       "        text-align: right;\n",
       "    }\n",
       "</style>\n",
       "<table border=\"1\" class=\"dataframe\">\n",
       "  <thead>\n",
       "    <tr style=\"text-align: right;\">\n",
       "      <th></th>\n",
       "      <th>hora</th>\n",
       "      <th>fecha</th>\n",
       "      <th>coedisp</th>\n",
       "      <th>abso</th>\n",
       "      <th>albedo</th>\n",
       "      <th>extinc</th>\n",
       "      <th>cn</th>\n",
       "    </tr>\n",
       "  </thead>\n",
       "  <tbody>\n",
       "    <tr>\n",
       "      <th>0</th>\n",
       "      <td>00:02:00</td>\n",
       "      <td>2017-01-01</td>\n",
       "      <td>19.2</td>\n",
       "      <td>3.51</td>\n",
       "      <td>0.845443</td>\n",
       "      <td>22.71</td>\n",
       "      <td>0.746809</td>\n",
       "    </tr>\n",
       "    <tr>\n",
       "      <th>1</th>\n",
       "      <td>00:03:00</td>\n",
       "      <td>2017-01-01</td>\n",
       "      <td>18.8</td>\n",
       "      <td>3.59</td>\n",
       "      <td>0.839661</td>\n",
       "      <td>22.39</td>\n",
       "      <td>0.763830</td>\n",
       "    </tr>\n",
       "    <tr>\n",
       "      <th>2</th>\n",
       "      <td>00:04:00</td>\n",
       "      <td>2017-01-01</td>\n",
       "      <td>25.8</td>\n",
       "      <td>4.03</td>\n",
       "      <td>0.864901</td>\n",
       "      <td>29.83</td>\n",
       "      <td>0.857447</td>\n",
       "    </tr>\n",
       "    <tr>\n",
       "      <th>3</th>\n",
       "      <td>00:05:00</td>\n",
       "      <td>2017-01-01</td>\n",
       "      <td>20.3</td>\n",
       "      <td>3.82</td>\n",
       "      <td>0.841625</td>\n",
       "      <td>24.12</td>\n",
       "      <td>0.812766</td>\n",
       "    </tr>\n",
       "    <tr>\n",
       "      <th>4</th>\n",
       "      <td>00:06:00</td>\n",
       "      <td>2017-01-01</td>\n",
       "      <td>19.7</td>\n",
       "      <td>3.94</td>\n",
       "      <td>0.833333</td>\n",
       "      <td>23.64</td>\n",
       "      <td>0.838298</td>\n",
       "    </tr>\n",
       "  </tbody>\n",
       "</table>\n",
       "</div>"
      ],
      "text/plain": [
       "       hora      fecha  coedisp  abso    albedo  extinc        cn\n",
       "0  00:02:00 2017-01-01     19.2  3.51  0.845443   22.71  0.746809\n",
       "1  00:03:00 2017-01-01     18.8  3.59  0.839661   22.39  0.763830\n",
       "2  00:04:00 2017-01-01     25.8  4.03  0.864901   29.83  0.857447\n",
       "3  00:05:00 2017-01-01     20.3  3.82  0.841625   24.12  0.812766\n",
       "4  00:06:00 2017-01-01     19.7  3.94  0.833333   23.64  0.838298"
      ]
     },
     "execution_count": 13,
     "metadata": {},
     "output_type": "execute_result"
    }
   ],
   "source": [
    "datos.head()"
   ]
  },
  {
   "cell_type": "code",
   "execution_count": 14,
   "metadata": {},
   "outputs": [
    {
     "data": {
      "text/html": [
       "<div>\n",
       "<style scoped>\n",
       "    .dataframe tbody tr th:only-of-type {\n",
       "        vertical-align: middle;\n",
       "    }\n",
       "\n",
       "    .dataframe tbody tr th {\n",
       "        vertical-align: top;\n",
       "    }\n",
       "\n",
       "    .dataframe thead th {\n",
       "        text-align: right;\n",
       "    }\n",
       "</style>\n",
       "<table border=\"1\" class=\"dataframe\">\n",
       "  <thead>\n",
       "    <tr style=\"text-align: right;\">\n",
       "      <th></th>\n",
       "      <th>hora</th>\n",
       "      <th>fecha</th>\n",
       "      <th>coedisp</th>\n",
       "      <th>abso</th>\n",
       "      <th>albedo</th>\n",
       "      <th>extinc</th>\n",
       "      <th>cn</th>\n",
       "    </tr>\n",
       "  </thead>\n",
       "  <tbody>\n",
       "    <tr>\n",
       "      <th>241949</th>\n",
       "      <td>23:56:00</td>\n",
       "      <td>2017-06-30</td>\n",
       "      <td>1.430</td>\n",
       "      <td>2.08</td>\n",
       "      <td>0.407407</td>\n",
       "      <td>3.510</td>\n",
       "      <td>0.442553</td>\n",
       "    </tr>\n",
       "    <tr>\n",
       "      <th>241950</th>\n",
       "      <td>23:57:00</td>\n",
       "      <td>2017-06-30</td>\n",
       "      <td>0.681</td>\n",
       "      <td>1.80</td>\n",
       "      <td>0.274486</td>\n",
       "      <td>2.481</td>\n",
       "      <td>0.382979</td>\n",
       "    </tr>\n",
       "    <tr>\n",
       "      <th>241951</th>\n",
       "      <td>23:58:00</td>\n",
       "      <td>2017-06-30</td>\n",
       "      <td>1.560</td>\n",
       "      <td>2.08</td>\n",
       "      <td>0.428571</td>\n",
       "      <td>3.640</td>\n",
       "      <td>0.442553</td>\n",
       "    </tr>\n",
       "    <tr>\n",
       "      <th>241952</th>\n",
       "      <td>23:59:00</td>\n",
       "      <td>2017-06-30</td>\n",
       "      <td>2.060</td>\n",
       "      <td>1.96</td>\n",
       "      <td>0.512438</td>\n",
       "      <td>4.020</td>\n",
       "      <td>0.417021</td>\n",
       "    </tr>\n",
       "    <tr>\n",
       "      <th>241953</th>\n",
       "      <td>23:59:55</td>\n",
       "      <td>2017-06-30</td>\n",
       "      <td>1.990</td>\n",
       "      <td>1.83</td>\n",
       "      <td>0.520942</td>\n",
       "      <td>3.820</td>\n",
       "      <td>0.389362</td>\n",
       "    </tr>\n",
       "  </tbody>\n",
       "</table>\n",
       "</div>"
      ],
      "text/plain": [
       "            hora      fecha  coedisp  abso    albedo  extinc        cn\n",
       "241949  23:56:00 2017-06-30    1.430  2.08  0.407407   3.510  0.442553\n",
       "241950  23:57:00 2017-06-30    0.681  1.80  0.274486   2.481  0.382979\n",
       "241951  23:58:00 2017-06-30    1.560  2.08  0.428571   3.640  0.442553\n",
       "241952  23:59:00 2017-06-30    2.060  1.96  0.512438   4.020  0.417021\n",
       "241953  23:59:55 2017-06-30    1.990  1.83  0.520942   3.820  0.389362"
      ]
     },
     "execution_count": 14,
     "metadata": {},
     "output_type": "execute_result"
    }
   ],
   "source": [
    "datos.tail()"
   ]
  },
  {
   "cell_type": "code",
   "execution_count": 15,
   "metadata": {},
   "outputs": [
    {
     "data": {
      "text/plain": [
       "Index(['hora', 'fecha', 'coedisp', 'abso', 'albedo', 'extinc', 'cn'], dtype='object')"
      ]
     },
     "execution_count": 15,
     "metadata": {},
     "output_type": "execute_result"
    }
   ],
   "source": [
    "datos.columns"
   ]
  },
  {
   "cell_type": "code",
   "execution_count": 16,
   "metadata": {},
   "outputs": [
    {
     "name": "stdout",
     "output_type": "stream",
     "text": [
      "<class 'pandas.core.frame.DataFrame'>\n",
      "RangeIndex: 241954 entries, 0 to 241953\n",
      "Data columns (total 7 columns):\n",
      "hora       241954 non-null object\n",
      "fecha      241954 non-null datetime64[ns]\n",
      "coedisp    240958 non-null float64\n",
      "abso       228263 non-null float64\n",
      "albedo     227617 non-null float64\n",
      "extinc     227617 non-null float64\n",
      "cn         228263 non-null float64\n",
      "dtypes: datetime64[ns](1), float64(5), object(1)\n",
      "memory usage: 12.9+ MB\n"
     ]
    }
   ],
   "source": [
    "datos.info()"
   ]
  },
  {
   "cell_type": "code",
   "execution_count": 17,
   "metadata": {},
   "outputs": [
    {
     "data": {
      "text/plain": [
       "Index(['hora', 'fecha', 'coedisp', 'abso', 'albedo', 'extinc', 'cn'], dtype='object')"
      ]
     },
     "execution_count": 17,
     "metadata": {},
     "output_type": "execute_result"
    }
   ],
   "source": [
    "datos.columns.str.lower()\n",
    "datos.columns"
   ]
  },
  {
   "cell_type": "code",
   "execution_count": 18,
   "metadata": {},
   "outputs": [
    {
     "name": "stdout",
     "output_type": "stream",
     "text": [
      "<class 'pandas.core.frame.DataFrame'>\n",
      "RangeIndex: 3 entries, 0 to 2\n",
      "Data columns (total 7 columns):\n",
      "hora       3 non-null object\n",
      "fecha      3 non-null datetime64[ns]\n",
      "coedisp    3 non-null float64\n",
      "abso       3 non-null float64\n",
      "albedo     3 non-null float64\n",
      "extinc     3 non-null float64\n",
      "cn         3 non-null float64\n",
      "dtypes: datetime64[ns](1), float64(5), object(1)\n",
      "memory usage: 248.0+ bytes\n"
     ]
    }
   ],
   "source": [
    "datos2 = datos.head(3)\n",
    "datos2.info()"
   ]
  },
  {
   "cell_type": "code",
   "execution_count": 19,
   "metadata": {},
   "outputs": [
    {
     "data": {
      "text/plain": [
       "0   2017-01-01\n",
       "1   2017-01-01\n",
       "2   2017-01-01\n",
       "3   2017-01-01\n",
       "4   2017-01-01\n",
       "Name: fecha, dtype: datetime64[ns]"
      ]
     },
     "execution_count": 19,
     "metadata": {},
     "output_type": "execute_result"
    }
   ],
   "source": [
    "datos[\"fecha\"].head()"
   ]
  },
  {
   "cell_type": "code",
   "execution_count": 20,
   "metadata": {},
   "outputs": [
    {
     "data": {
      "text/html": [
       "<div>\n",
       "<style scoped>\n",
       "    .dataframe tbody tr th:only-of-type {\n",
       "        vertical-align: middle;\n",
       "    }\n",
       "\n",
       "    .dataframe tbody tr th {\n",
       "        vertical-align: top;\n",
       "    }\n",
       "\n",
       "    .dataframe thead th {\n",
       "        text-align: right;\n",
       "    }\n",
       "</style>\n",
       "<table border=\"1\" class=\"dataframe\">\n",
       "  <thead>\n",
       "    <tr style=\"text-align: right;\">\n",
       "      <th></th>\n",
       "      <th>hora</th>\n",
       "      <th>fecha</th>\n",
       "      <th>coedisp</th>\n",
       "      <th>abso</th>\n",
       "      <th>albedo</th>\n",
       "      <th>extinc</th>\n",
       "      <th>cn</th>\n",
       "    </tr>\n",
       "  </thead>\n",
       "  <tbody>\n",
       "    <tr>\n",
       "      <th>20</th>\n",
       "      <td>00:23:00</td>\n",
       "      <td>2017-01-01</td>\n",
       "      <td>15.0</td>\n",
       "      <td>2.72</td>\n",
       "      <td>0.846501</td>\n",
       "      <td>17.72</td>\n",
       "      <td>0.578723</td>\n",
       "    </tr>\n",
       "    <tr>\n",
       "      <th>21</th>\n",
       "      <td>00:24:00</td>\n",
       "      <td>2017-01-01</td>\n",
       "      <td>18.7</td>\n",
       "      <td>2.91</td>\n",
       "      <td>0.865340</td>\n",
       "      <td>21.61</td>\n",
       "      <td>0.619149</td>\n",
       "    </tr>\n",
       "    <tr>\n",
       "      <th>22</th>\n",
       "      <td>00:25:00</td>\n",
       "      <td>2017-01-01</td>\n",
       "      <td>19.7</td>\n",
       "      <td>2.68</td>\n",
       "      <td>0.880250</td>\n",
       "      <td>22.38</td>\n",
       "      <td>0.570213</td>\n",
       "    </tr>\n",
       "    <tr>\n",
       "      <th>23</th>\n",
       "      <td>00:26:00</td>\n",
       "      <td>2017-01-01</td>\n",
       "      <td>15.6</td>\n",
       "      <td>1.97</td>\n",
       "      <td>0.887877</td>\n",
       "      <td>17.57</td>\n",
       "      <td>0.419149</td>\n",
       "    </tr>\n",
       "    <tr>\n",
       "      <th>24</th>\n",
       "      <td>00:27:00</td>\n",
       "      <td>2017-01-01</td>\n",
       "      <td>17.2</td>\n",
       "      <td>2.49</td>\n",
       "      <td>0.873540</td>\n",
       "      <td>19.69</td>\n",
       "      <td>0.529787</td>\n",
       "    </tr>\n",
       "  </tbody>\n",
       "</table>\n",
       "</div>"
      ],
      "text/plain": [
       "        hora      fecha  coedisp  abso    albedo  extinc        cn\n",
       "20  00:23:00 2017-01-01     15.0  2.72  0.846501   17.72  0.578723\n",
       "21  00:24:00 2017-01-01     18.7  2.91  0.865340   21.61  0.619149\n",
       "22  00:25:00 2017-01-01     19.7  2.68  0.880250   22.38  0.570213\n",
       "23  00:26:00 2017-01-01     15.6  1.97  0.887877   17.57  0.419149\n",
       "24  00:27:00 2017-01-01     17.2  2.49  0.873540   19.69  0.529787"
      ]
     },
     "execution_count": 20,
     "metadata": {},
     "output_type": "execute_result"
    }
   ],
   "source": [
    "datos[20:25]"
   ]
  },
  {
   "cell_type": "code",
   "execution_count": 21,
   "metadata": {},
   "outputs": [
    {
     "data": {
      "text/html": [
       "<div>\n",
       "<style scoped>\n",
       "    .dataframe tbody tr th:only-of-type {\n",
       "        vertical-align: middle;\n",
       "    }\n",
       "\n",
       "    .dataframe tbody tr th {\n",
       "        vertical-align: top;\n",
       "    }\n",
       "\n",
       "    .dataframe thead th {\n",
       "        text-align: right;\n",
       "    }\n",
       "</style>\n",
       "<table border=\"1\" class=\"dataframe\">\n",
       "  <thead>\n",
       "    <tr style=\"text-align: right;\">\n",
       "      <th></th>\n",
       "      <th>hora</th>\n",
       "      <th>fecha</th>\n",
       "      <th>coedisp</th>\n",
       "      <th>abso</th>\n",
       "      <th>albedo</th>\n",
       "      <th>extinc</th>\n",
       "      <th>cn</th>\n",
       "    </tr>\n",
       "  </thead>\n",
       "  <tbody>\n",
       "    <tr>\n",
       "      <th>206999</th>\n",
       "      <td>00:02:00</td>\n",
       "      <td>2017-06-05</td>\n",
       "      <td>14.40</td>\n",
       "      <td>3.04</td>\n",
       "      <td>0.825688</td>\n",
       "      <td>17.44</td>\n",
       "      <td>0.646809</td>\n",
       "    </tr>\n",
       "    <tr>\n",
       "      <th>207000</th>\n",
       "      <td>00:03:00</td>\n",
       "      <td>2017-06-05</td>\n",
       "      <td>11.40</td>\n",
       "      <td>3.12</td>\n",
       "      <td>0.785124</td>\n",
       "      <td>14.52</td>\n",
       "      <td>0.663830</td>\n",
       "    </tr>\n",
       "    <tr>\n",
       "      <th>207001</th>\n",
       "      <td>00:04:00</td>\n",
       "      <td>2017-06-05</td>\n",
       "      <td>11.30</td>\n",
       "      <td>2.83</td>\n",
       "      <td>0.799717</td>\n",
       "      <td>14.13</td>\n",
       "      <td>0.602128</td>\n",
       "    </tr>\n",
       "    <tr>\n",
       "      <th>207002</th>\n",
       "      <td>00:05:00</td>\n",
       "      <td>2017-06-05</td>\n",
       "      <td>8.74</td>\n",
       "      <td>2.51</td>\n",
       "      <td>0.776889</td>\n",
       "      <td>11.25</td>\n",
       "      <td>0.534043</td>\n",
       "    </tr>\n",
       "    <tr>\n",
       "      <th>207003</th>\n",
       "      <td>00:06:00</td>\n",
       "      <td>2017-06-05</td>\n",
       "      <td>11.00</td>\n",
       "      <td>2.95</td>\n",
       "      <td>0.788530</td>\n",
       "      <td>13.95</td>\n",
       "      <td>0.627660</td>\n",
       "    </tr>\n",
       "  </tbody>\n",
       "</table>\n",
       "</div>"
      ],
      "text/plain": [
       "            hora      fecha  coedisp  abso    albedo  extinc        cn\n",
       "206999  00:02:00 2017-06-05    14.40  3.04  0.825688   17.44  0.646809\n",
       "207000  00:03:00 2017-06-05    11.40  3.12  0.785124   14.52  0.663830\n",
       "207001  00:04:00 2017-06-05    11.30  2.83  0.799717   14.13  0.602128\n",
       "207002  00:05:00 2017-06-05     8.74  2.51  0.776889   11.25  0.534043\n",
       "207003  00:06:00 2017-06-05    11.00  2.95  0.788530   13.95  0.627660"
      ]
     },
     "execution_count": 21,
     "metadata": {},
     "output_type": "execute_result"
    }
   ],
   "source": [
    "datos[datos[\"fecha\"] == \"2017/06/05\"].head()"
   ]
  },
  {
   "cell_type": "code",
   "execution_count": 22,
   "metadata": {},
   "outputs": [
    {
     "data": {
      "text/html": [
       "<div>\n",
       "<style scoped>\n",
       "    .dataframe tbody tr th:only-of-type {\n",
       "        vertical-align: middle;\n",
       "    }\n",
       "\n",
       "    .dataframe tbody tr th {\n",
       "        vertical-align: top;\n",
       "    }\n",
       "\n",
       "    .dataframe thead th {\n",
       "        text-align: right;\n",
       "    }\n",
       "</style>\n",
       "<table border=\"1\" class=\"dataframe\">\n",
       "  <thead>\n",
       "    <tr style=\"text-align: right;\">\n",
       "      <th></th>\n",
       "      <th>hora</th>\n",
       "      <th>fecha</th>\n",
       "      <th>coedisp</th>\n",
       "      <th>abso</th>\n",
       "      <th>albedo</th>\n",
       "      <th>extinc</th>\n",
       "      <th>cn</th>\n",
       "    </tr>\n",
       "  </thead>\n",
       "  <tbody>\n",
       "    <tr>\n",
       "      <th>675</th>\n",
       "      <td>12:05:00</td>\n",
       "      <td>2017-01-01</td>\n",
       "      <td>12.90</td>\n",
       "      <td>NaN</td>\n",
       "      <td>NaN</td>\n",
       "      <td>NaN</td>\n",
       "      <td>NaN</td>\n",
       "    </tr>\n",
       "    <tr>\n",
       "      <th>676</th>\n",
       "      <td>12:06:00</td>\n",
       "      <td>2017-01-01</td>\n",
       "      <td>5.67</td>\n",
       "      <td>NaN</td>\n",
       "      <td>NaN</td>\n",
       "      <td>NaN</td>\n",
       "      <td>NaN</td>\n",
       "    </tr>\n",
       "    <tr>\n",
       "      <th>677</th>\n",
       "      <td>12:07:00</td>\n",
       "      <td>2017-01-01</td>\n",
       "      <td>6.47</td>\n",
       "      <td>NaN</td>\n",
       "      <td>NaN</td>\n",
       "      <td>NaN</td>\n",
       "      <td>NaN</td>\n",
       "    </tr>\n",
       "    <tr>\n",
       "      <th>678</th>\n",
       "      <td>12:08:00</td>\n",
       "      <td>2017-01-01</td>\n",
       "      <td>6.71</td>\n",
       "      <td>NaN</td>\n",
       "      <td>NaN</td>\n",
       "      <td>NaN</td>\n",
       "      <td>NaN</td>\n",
       "    </tr>\n",
       "    <tr>\n",
       "      <th>679</th>\n",
       "      <td>12:09:00</td>\n",
       "      <td>2017-01-01</td>\n",
       "      <td>6.67</td>\n",
       "      <td>NaN</td>\n",
       "      <td>NaN</td>\n",
       "      <td>NaN</td>\n",
       "      <td>NaN</td>\n",
       "    </tr>\n",
       "  </tbody>\n",
       "</table>\n",
       "</div>"
      ],
      "text/plain": [
       "         hora      fecha  coedisp  abso  albedo  extinc  cn\n",
       "675  12:05:00 2017-01-01    12.90   NaN     NaN     NaN NaN\n",
       "676  12:06:00 2017-01-01     5.67   NaN     NaN     NaN NaN\n",
       "677  12:07:00 2017-01-01     6.47   NaN     NaN     NaN NaN\n",
       "678  12:08:00 2017-01-01     6.71   NaN     NaN     NaN NaN\n",
       "679  12:09:00 2017-01-01     6.67   NaN     NaN     NaN NaN"
      ]
     },
     "execution_count": 22,
     "metadata": {},
     "output_type": "execute_result"
    }
   ],
   "source": [
    "datos[pd.isna(datos.albedo)].head()"
   ]
  },
  {
   "cell_type": "code",
   "execution_count": 24,
   "metadata": {},
   "outputs": [
    {
     "name": "stdout",
     "output_type": "stream",
     "text": [
      "{'_id': ObjectId('5ccd347401b8e40b082d115c'), 'name': 'Michael', 'adress': 'Valley 345'}\n",
      "{'_id': ObjectId('5ccd347401b8e40b082d115f'), 'name': 'Richard', 'adress': 'Sky st 331'}\n",
      "{'_id': ObjectId('5ccd347401b8e40b082d1161'), 'name': 'Vicky', 'adress': 'Yellow garden 2'}\n",
      "{'_id': ObjectId('5ccd347401b8e40b082d1165'), 'name': 'Viola', 'adress': 'Sideway 1633'}\n"
     ]
    }
   ],
   "source": [
    "#consultar elementos cuya dirección empiece con S o superior\n",
    "myquery = {\"adress\": {\"$gt\": \"S\"}}\n",
    "\n",
    "mydoc = mycol.find(myquery)\n",
    "\n",
    "for x in mydoc:\n",
    "    print(x)"
   ]
  },
  {
   "cell_type": "code",
   "execution_count": 25,
   "metadata": {},
   "outputs": [
    {
     "data": {
      "text/plain": [
       "<pymongo.results.DeleteResult at 0x1ea1bcd5b08>"
      ]
     },
     "execution_count": 25,
     "metadata": {},
     "output_type": "execute_result"
    }
   ],
   "source": [
    "#borrar un elemento\n",
    "myquery = {\"adress\": \"Mountain 21\"}\n",
    "mycol.delete_one(myquery)"
   ]
  },
  {
   "cell_type": "code",
   "execution_count": 26,
   "metadata": {},
   "outputs": [
    {
     "name": "stdout",
     "output_type": "stream",
     "text": [
      "2  documents deleted\n"
     ]
    }
   ],
   "source": [
    "#borrar los elementos que empiecen con la letra S\n",
    "#usando expresiones regulares\n",
    "myquery = {\"adress\": {\"$regex\": \"^S\"}}\n",
    "\n",
    "x = mycol.delete_many(myquery)\n",
    "print(x.deleted_count, \" documents deleted\")"
   ]
  },
  {
   "cell_type": "code",
   "execution_count": 27,
   "metadata": {},
   "outputs": [
    {
     "data": {
      "text/plain": [
       "<pymongo.results.UpdateResult at 0x1ea1bd0b308>"
      ]
     },
     "execution_count": 27,
     "metadata": {},
     "output_type": "execute_result"
    }
   ],
   "source": [
    "#actualizar un parámetro de un documento\n",
    "myquery = {\"adress\": \"Valley 345\"}\n",
    "newvalues = {\"$set\": {\"adress\": \"Canyon 123\"}}\n",
    "\n",
    "mycol.update_one(myquery, newvalues)"
   ]
  },
  {
   "cell_type": "code",
   "execution_count": 28,
   "metadata": {},
   "outputs": [
    {
     "name": "stdout",
     "output_type": "stream",
     "text": [
      "{'_id': ObjectId('5ccd347401b8e40b082d115a'), 'name': 'Amy', 'adress': 'Apple st 652'}\n",
      "{'_id': ObjectId('5ccd347401b8e40b082d115c'), 'name': 'Michael', 'adress': 'Canyon 123'}\n",
      "{'_id': ObjectId('5ccd347401b8e40b082d115d'), 'name': 'Sandy', 'adress': 'Ocean blvd 2'}\n",
      "{'_id': ObjectId('5ccd347401b8e40b082d115e'), 'name': 'Betty', 'adress': 'Green Grass 1'}\n",
      "{'_id': ObjectId('5ccd347401b8e40b082d1160'), 'name': 'Susan', 'adress': 'One way 98'}\n",
      "{'_id': ObjectId('5ccd347401b8e40b082d1161'), 'name': 'Vicky', 'adress': 'Yellow garden 2'}\n",
      "{'_id': ObjectId('5ccd347401b8e40b082d1162'), 'name': 'Ben', 'adress': 'Park Lane 38'}\n",
      "{'_id': ObjectId('5ccd347401b8e40b082d1163'), 'name': 'William', 'adress': 'Central st 954'}\n",
      "{'_id': ObjectId('5ccd347401b8e40b082d1164'), 'name': 'Chuck', 'adress': 'Main Road 989'}\n",
      "{'_id': ObjectId('5ccd34e101b8e40b082d1166'), 'name': 'John', 'adress': 'Highway 37'}\n"
     ]
    }
   ],
   "source": [
    "#print customers after the update\n",
    "for x in mycol.find():\n",
    "    print(x)"
   ]
  }
 ],
 "metadata": {
  "kernelspec": {
   "display_name": "Python 3",
   "language": "python",
   "name": "python3"
  },
  "language_info": {
   "codemirror_mode": {
    "name": "ipython",
    "version": 3
   },
   "file_extension": ".py",
   "mimetype": "text/x-python",
   "name": "python",
   "nbconvert_exporter": "python",
   "pygments_lexer": "ipython3",
   "version": "3.7.3"
  }
 },
 "nbformat": 4,
 "nbformat_minor": 2
}
