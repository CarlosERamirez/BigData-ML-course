{
 "cells": [
  {
   "cell_type": "code",
   "execution_count": 1,
   "metadata": {},
   "outputs": [],
   "source": [
    "import pandas as pd\n",
    "import numpy as np\n",
    "from sklearn import datasets, linear_model\n",
    "from sklearn.metrics import mean_squared_error, r2_score\n",
    "import matplotlib.pyplot as plt\n",
    "\n",
    "df = pd.read_csv(\"flights.csv\", nrows = 1000)"
   ]
  },
  {
   "cell_type": "code",
   "execution_count": 10,
   "metadata": {},
   "outputs": [
    {
     "data": {
      "text/html": [
       "<div>\n",
       "<style scoped>\n",
       "    .dataframe tbody tr th:only-of-type {\n",
       "        vertical-align: middle;\n",
       "    }\n",
       "\n",
       "    .dataframe tbody tr th {\n",
       "        vertical-align: top;\n",
       "    }\n",
       "\n",
       "    .dataframe thead th {\n",
       "        text-align: right;\n",
       "    }\n",
       "</style>\n",
       "<table border=\"1\" class=\"dataframe\">\n",
       "  <thead>\n",
       "    <tr style=\"text-align: right;\">\n",
       "      <th></th>\n",
       "      <th>YEAR</th>\n",
       "      <th>MONTH</th>\n",
       "      <th>DAY</th>\n",
       "      <th>DAY_OF_WEEK</th>\n",
       "      <th>AIRLINE</th>\n",
       "      <th>FLIGHT_NUMBER</th>\n",
       "      <th>TAIL_NUMBER</th>\n",
       "      <th>ORIGIN_AIRPORT</th>\n",
       "      <th>DESTINATION_AIRPORT</th>\n",
       "      <th>SCHEDULED_DEPARTURE</th>\n",
       "      <th>...</th>\n",
       "      <th>ARRIVAL_TIME</th>\n",
       "      <th>ARRIVAL_DELAY</th>\n",
       "      <th>DIVERTED</th>\n",
       "      <th>CANCELLED</th>\n",
       "      <th>CANCELLATION_REASON</th>\n",
       "      <th>AIR_SYSTEM_DELAY</th>\n",
       "      <th>SECURITY_DELAY</th>\n",
       "      <th>AIRLINE_DELAY</th>\n",
       "      <th>LATE_AIRCRAFT_DELAY</th>\n",
       "      <th>WEATHER_DELAY</th>\n",
       "    </tr>\n",
       "  </thead>\n",
       "  <tbody>\n",
       "    <tr>\n",
       "      <th>363</th>\n",
       "      <td>2015</td>\n",
       "      <td>1</td>\n",
       "      <td>1</td>\n",
       "      <td>4</td>\n",
       "      <td>UA</td>\n",
       "      <td>576</td>\n",
       "      <td>N817UA</td>\n",
       "      <td>SFO</td>\n",
       "      <td>EWR</td>\n",
       "      <td>601</td>\n",
       "      <td>...</td>\n",
       "      <td>1409.0</td>\n",
       "      <td>-23.0</td>\n",
       "      <td>0</td>\n",
       "      <td>0</td>\n",
       "      <td>NaN</td>\n",
       "      <td>NaN</td>\n",
       "      <td>NaN</td>\n",
       "      <td>NaN</td>\n",
       "      <td>NaN</td>\n",
       "      <td>NaN</td>\n",
       "    </tr>\n",
       "    <tr>\n",
       "      <th>302</th>\n",
       "      <td>2015</td>\n",
       "      <td>1</td>\n",
       "      <td>1</td>\n",
       "      <td>4</td>\n",
       "      <td>F9</td>\n",
       "      <td>1056</td>\n",
       "      <td>N929FR</td>\n",
       "      <td>SFO</td>\n",
       "      <td>IAH</td>\n",
       "      <td>600</td>\n",
       "      <td>...</td>\n",
       "      <td>1146.0</td>\n",
       "      <td>1.0</td>\n",
       "      <td>0</td>\n",
       "      <td>0</td>\n",
       "      <td>NaN</td>\n",
       "      <td>NaN</td>\n",
       "      <td>NaN</td>\n",
       "      <td>NaN</td>\n",
       "      <td>NaN</td>\n",
       "      <td>NaN</td>\n",
       "    </tr>\n",
       "    <tr>\n",
       "      <th>858</th>\n",
       "      <td>2015</td>\n",
       "      <td>1</td>\n",
       "      <td>1</td>\n",
       "      <td>4</td>\n",
       "      <td>WN</td>\n",
       "      <td>921</td>\n",
       "      <td>N962WN</td>\n",
       "      <td>SAT</td>\n",
       "      <td>BNA</td>\n",
       "      <td>700</td>\n",
       "      <td>...</td>\n",
       "      <td>844.0</td>\n",
       "      <td>-16.0</td>\n",
       "      <td>0</td>\n",
       "      <td>0</td>\n",
       "      <td>NaN</td>\n",
       "      <td>NaN</td>\n",
       "      <td>NaN</td>\n",
       "      <td>NaN</td>\n",
       "      <td>NaN</td>\n",
       "      <td>NaN</td>\n",
       "    </tr>\n",
       "    <tr>\n",
       "      <th>504</th>\n",
       "      <td>2015</td>\n",
       "      <td>1</td>\n",
       "      <td>1</td>\n",
       "      <td>4</td>\n",
       "      <td>OO</td>\n",
       "      <td>6616</td>\n",
       "      <td>N897SK</td>\n",
       "      <td>FAT</td>\n",
       "      <td>PHX</td>\n",
       "      <td>615</td>\n",
       "      <td>...</td>\n",
       "      <td>905.0</td>\n",
       "      <td>10.0</td>\n",
       "      <td>0</td>\n",
       "      <td>0</td>\n",
       "      <td>NaN</td>\n",
       "      <td>NaN</td>\n",
       "      <td>NaN</td>\n",
       "      <td>NaN</td>\n",
       "      <td>NaN</td>\n",
       "      <td>NaN</td>\n",
       "    </tr>\n",
       "    <tr>\n",
       "      <th>904</th>\n",
       "      <td>2015</td>\n",
       "      <td>1</td>\n",
       "      <td>1</td>\n",
       "      <td>4</td>\n",
       "      <td>AS</td>\n",
       "      <td>883</td>\n",
       "      <td>N531AS</td>\n",
       "      <td>OAK</td>\n",
       "      <td>LIH</td>\n",
       "      <td>700</td>\n",
       "      <td>...</td>\n",
       "      <td>1026.0</td>\n",
       "      <td>-18.0</td>\n",
       "      <td>0</td>\n",
       "      <td>0</td>\n",
       "      <td>NaN</td>\n",
       "      <td>NaN</td>\n",
       "      <td>NaN</td>\n",
       "      <td>NaN</td>\n",
       "      <td>NaN</td>\n",
       "      <td>NaN</td>\n",
       "    </tr>\n",
       "  </tbody>\n",
       "</table>\n",
       "<p>5 rows × 31 columns</p>\n",
       "</div>"
      ],
      "text/plain": [
       "     YEAR MONTH DAY DAY_OF_WEEK AIRLINE  FLIGHT_NUMBER TAIL_NUMBER  \\\n",
       "363  2015     1   1           4      UA            576      N817UA   \n",
       "302  2015     1   1           4      F9           1056      N929FR   \n",
       "858  2015     1   1           4      WN            921      N962WN   \n",
       "504  2015     1   1           4      OO           6616      N897SK   \n",
       "904  2015     1   1           4      AS            883      N531AS   \n",
       "\n",
       "    ORIGIN_AIRPORT DESTINATION_AIRPORT  SCHEDULED_DEPARTURE  ...  \\\n",
       "363            SFO                 EWR                  601  ...   \n",
       "302            SFO                 IAH                  600  ...   \n",
       "858            SAT                 BNA                  700  ...   \n",
       "504            FAT                 PHX                  615  ...   \n",
       "904            OAK                 LIH                  700  ...   \n",
       "\n",
       "     ARRIVAL_TIME  ARRIVAL_DELAY  DIVERTED  CANCELLED  CANCELLATION_REASON  \\\n",
       "363        1409.0          -23.0         0          0                  NaN   \n",
       "302        1146.0            1.0         0          0                  NaN   \n",
       "858         844.0          -16.0         0          0                  NaN   \n",
       "504         905.0           10.0         0          0                  NaN   \n",
       "904        1026.0          -18.0         0          0                  NaN   \n",
       "\n",
       "     AIR_SYSTEM_DELAY  SECURITY_DELAY  AIRLINE_DELAY  LATE_AIRCRAFT_DELAY  \\\n",
       "363               NaN             NaN            NaN                  NaN   \n",
       "302               NaN             NaN            NaN                  NaN   \n",
       "858               NaN             NaN            NaN                  NaN   \n",
       "504               NaN             NaN            NaN                  NaN   \n",
       "904               NaN             NaN            NaN                  NaN   \n",
       "\n",
       "     WEATHER_DELAY  \n",
       "363            NaN  \n",
       "302            NaN  \n",
       "858            NaN  \n",
       "504            NaN  \n",
       "904            NaN  \n",
       "\n",
       "[5 rows x 31 columns]"
      ]
     },
     "execution_count": 10,
     "metadata": {},
     "output_type": "execute_result"
    }
   ],
   "source": [
    "df.head()"
   ]
  },
  {
   "cell_type": "markdown",
   "metadata": {},
   "source": [
    "LINEAR"
   ]
  },
  {
   "cell_type": "code",
   "execution_count": 2,
   "metadata": {},
   "outputs": [],
   "source": [
    "df = df.dropna(subset = [\"ARRIVAL_DELAY\"])\n",
    "df = df.sample(frac = 1).head(100)\n",
    "Y = df[\"ARRIVAL_DELAY\"]\n",
    "X = df[[\"DEPARTURE_DELAY\"]]"
   ]
  },
  {
   "cell_type": "code",
   "execution_count": 3,
   "metadata": {},
   "outputs": [
    {
     "name": "stdout",
     "output_type": "stream",
     "text": [
      "Coeficientes:  [1.06065292]\n",
      "R cuadrado:  0.9252774453536354\n"
     ]
    }
   ],
   "source": [
    "regr = linear_model.LinearRegression()\n",
    "regr.fit(X, Y)\n",
    "\n",
    "print(\"Coeficientes: \", regr.coef_)\n",
    "Y_pred = regr.predict(X)\n",
    "print(\"R cuadrado: \", r2_score(Y, Y_pred))"
   ]
  },
  {
   "cell_type": "code",
   "execution_count": 4,
   "metadata": {},
   "outputs": [
    {
     "data": {
      "image/png": "[encoded data removed]",
      "text/plain": [
       "<Figure size 432x288 with 1 Axes>"
      ]
     },
     "metadata": {
      "needs_background": "light"
     },
     "output_type": "display_data"
    }
   ],
   "source": [
    "plt.plot(X[1:100], Y[1:1000], 'o', color = \"black\")\n",
    "plt.plot(X[1:100], Y_pred[1:1000], 'o', color = \"blue\")\n",
    "plt.show()"
   ]
  },
  {
   "cell_type": "code",
   "execution_count": 5,
   "metadata": {},
   "outputs": [],
   "source": [
    "X = df[[\"AIR_TIME\", \"DISTANCE\", \"TAXI_IN\", \"TAXI_OUT\"]]\n",
    "\n",
    "df[\"MONTH\"] = df[\"MONTH\"].apply(str)\n",
    "df[\"DAY\"] = df[\"DAY\"].apply(str)\n",
    "df[\"DAY_OF_WEEK\"] = df[\"DAY_OF_WEEK\"].apply(str)\n",
    "\n",
    "dummies = pd.get_dummies(data = df[['MONTH', 'DAY', 'DAY_OF_WEEK', 'ORIGIN_AIRPORT', 'DESTINATION_AIRPORT']])\n",
    "\n",
    "X = dummies.add(X, fill_value = 0)"
   ]
  },
  {
   "cell_type": "code",
   "execution_count": 11,
   "metadata": {},
   "outputs": [
    {
     "data": {
      "text/html": [
       "<div>\n",
       "<style scoped>\n",
       "    .dataframe tbody tr th:only-of-type {\n",
       "        vertical-align: middle;\n",
       "    }\n",
       "\n",
       "    .dataframe tbody tr th {\n",
       "        vertical-align: top;\n",
       "    }\n",
       "\n",
       "    .dataframe thead th {\n",
       "        text-align: right;\n",
       "    }\n",
       "</style>\n",
       "<table border=\"1\" class=\"dataframe\">\n",
       "  <thead>\n",
       "    <tr style=\"text-align: right;\">\n",
       "      <th></th>\n",
       "      <th>AIR_TIME</th>\n",
       "      <th>DAY_1</th>\n",
       "      <th>DAY_OF_WEEK_4</th>\n",
       "      <th>DEPARTURE_DELAY</th>\n",
       "      <th>DESTINATION_AIRPORT_ATL</th>\n",
       "      <th>DESTINATION_AIRPORT_BNA</th>\n",
       "      <th>DESTINATION_AIRPORT_BUF</th>\n",
       "      <th>DESTINATION_AIRPORT_CLT</th>\n",
       "      <th>DESTINATION_AIRPORT_DEN</th>\n",
       "      <th>DESTINATION_AIRPORT_DFW</th>\n",
       "      <th>...</th>\n",
       "      <th>ORIGIN_AIRPORT_SEA</th>\n",
       "      <th>ORIGIN_AIRPORT_SFO</th>\n",
       "      <th>ORIGIN_AIRPORT_SJC</th>\n",
       "      <th>ORIGIN_AIRPORT_SLC</th>\n",
       "      <th>ORIGIN_AIRPORT_SNA</th>\n",
       "      <th>ORIGIN_AIRPORT_TPA</th>\n",
       "      <th>ORIGIN_AIRPORT_TUL</th>\n",
       "      <th>ORIGIN_AIRPORT_XNA</th>\n",
       "      <th>TAXI_IN</th>\n",
       "      <th>TAXI_OUT</th>\n",
       "    </tr>\n",
       "  </thead>\n",
       "  <tbody>\n",
       "    <tr>\n",
       "      <th>363</th>\n",
       "      <td>292.0</td>\n",
       "      <td>1.0</td>\n",
       "      <td>1.0</td>\n",
       "      <td>-9.0</td>\n",
       "      <td>0.0</td>\n",
       "      <td>0.0</td>\n",
       "      <td>0.0</td>\n",
       "      <td>0.0</td>\n",
       "      <td>0.0</td>\n",
       "      <td>0.0</td>\n",
       "      <td>...</td>\n",
       "      <td>0.0</td>\n",
       "      <td>1.0</td>\n",
       "      <td>0.0</td>\n",
       "      <td>0.0</td>\n",
       "      <td>0.0</td>\n",
       "      <td>0.0</td>\n",
       "      <td>0.0</td>\n",
       "      <td>0.0</td>\n",
       "      <td>8.0</td>\n",
       "      <td>17.0</td>\n",
       "    </tr>\n",
       "    <tr>\n",
       "      <th>302</th>\n",
       "      <td>209.0</td>\n",
       "      <td>1.0</td>\n",
       "      <td>1.0</td>\n",
       "      <td>-8.0</td>\n",
       "      <td>0.0</td>\n",
       "      <td>0.0</td>\n",
       "      <td>0.0</td>\n",
       "      <td>0.0</td>\n",
       "      <td>0.0</td>\n",
       "      <td>0.0</td>\n",
       "      <td>...</td>\n",
       "      <td>0.0</td>\n",
       "      <td>1.0</td>\n",
       "      <td>0.0</td>\n",
       "      <td>0.0</td>\n",
       "      <td>0.0</td>\n",
       "      <td>0.0</td>\n",
       "      <td>0.0</td>\n",
       "      <td>0.0</td>\n",
       "      <td>10.0</td>\n",
       "      <td>15.0</td>\n",
       "    </tr>\n",
       "    <tr>\n",
       "      <th>858</th>\n",
       "      <td>94.0</td>\n",
       "      <td>1.0</td>\n",
       "      <td>1.0</td>\n",
       "      <td>-5.0</td>\n",
       "      <td>0.0</td>\n",
       "      <td>1.0</td>\n",
       "      <td>0.0</td>\n",
       "      <td>0.0</td>\n",
       "      <td>0.0</td>\n",
       "      <td>0.0</td>\n",
       "      <td>...</td>\n",
       "      <td>0.0</td>\n",
       "      <td>0.0</td>\n",
       "      <td>0.0</td>\n",
       "      <td>0.0</td>\n",
       "      <td>0.0</td>\n",
       "      <td>0.0</td>\n",
       "      <td>0.0</td>\n",
       "      <td>0.0</td>\n",
       "      <td>5.0</td>\n",
       "      <td>10.0</td>\n",
       "    </tr>\n",
       "    <tr>\n",
       "      <th>504</th>\n",
       "      <td>78.0</td>\n",
       "      <td>1.0</td>\n",
       "      <td>1.0</td>\n",
       "      <td>-1.0</td>\n",
       "      <td>0.0</td>\n",
       "      <td>0.0</td>\n",
       "      <td>0.0</td>\n",
       "      <td>0.0</td>\n",
       "      <td>0.0</td>\n",
       "      <td>0.0</td>\n",
       "      <td>...</td>\n",
       "      <td>0.0</td>\n",
       "      <td>0.0</td>\n",
       "      <td>0.0</td>\n",
       "      <td>0.0</td>\n",
       "      <td>0.0</td>\n",
       "      <td>0.0</td>\n",
       "      <td>0.0</td>\n",
       "      <td>0.0</td>\n",
       "      <td>5.0</td>\n",
       "      <td>28.0</td>\n",
       "    </tr>\n",
       "    <tr>\n",
       "      <th>904</th>\n",
       "      <td>320.0</td>\n",
       "      <td>1.0</td>\n",
       "      <td>1.0</td>\n",
       "      <td>-11.0</td>\n",
       "      <td>0.0</td>\n",
       "      <td>0.0</td>\n",
       "      <td>0.0</td>\n",
       "      <td>0.0</td>\n",
       "      <td>0.0</td>\n",
       "      <td>0.0</td>\n",
       "      <td>...</td>\n",
       "      <td>0.0</td>\n",
       "      <td>0.0</td>\n",
       "      <td>0.0</td>\n",
       "      <td>0.0</td>\n",
       "      <td>0.0</td>\n",
       "      <td>0.0</td>\n",
       "      <td>0.0</td>\n",
       "      <td>0.0</td>\n",
       "      <td>5.0</td>\n",
       "      <td>12.0</td>\n",
       "    </tr>\n",
       "  </tbody>\n",
       "</table>\n",
       "<p>5 rows × 101 columns</p>\n",
       "</div>"
      ],
      "text/plain": [
       "     AIR_TIME  DAY_1  DAY_OF_WEEK_4  DEPARTURE_DELAY  DESTINATION_AIRPORT_ATL  \\\n",
       "363     292.0    1.0            1.0             -9.0                      0.0   \n",
       "302     209.0    1.0            1.0             -8.0                      0.0   \n",
       "858      94.0    1.0            1.0             -5.0                      0.0   \n",
       "504      78.0    1.0            1.0             -1.0                      0.0   \n",
       "904     320.0    1.0            1.0            -11.0                      0.0   \n",
       "\n",
       "     DESTINATION_AIRPORT_BNA  DESTINATION_AIRPORT_BUF  \\\n",
       "363                      0.0                      0.0   \n",
       "302                      0.0                      0.0   \n",
       "858                      1.0                      0.0   \n",
       "504                      0.0                      0.0   \n",
       "904                      0.0                      0.0   \n",
       "\n",
       "     DESTINATION_AIRPORT_CLT  DESTINATION_AIRPORT_DEN  \\\n",
       "363                      0.0                      0.0   \n",
       "302                      0.0                      0.0   \n",
       "858                      0.0                      0.0   \n",
       "504                      0.0                      0.0   \n",
       "904                      0.0                      0.0   \n",
       "\n",
       "     DESTINATION_AIRPORT_DFW  ...  ORIGIN_AIRPORT_SEA  ORIGIN_AIRPORT_SFO  \\\n",
       "363                      0.0  ...                 0.0                 1.0   \n",
       "302                      0.0  ...                 0.0                 1.0   \n",
       "858                      0.0  ...                 0.0                 0.0   \n",
       "504                      0.0  ...                 0.0                 0.0   \n",
       "904                      0.0  ...                 0.0                 0.0   \n",
       "\n",
       "     ORIGIN_AIRPORT_SJC  ORIGIN_AIRPORT_SLC  ORIGIN_AIRPORT_SNA  \\\n",
       "363                 0.0                 0.0                 0.0   \n",
       "302                 0.0                 0.0                 0.0   \n",
       "858                 0.0                 0.0                 0.0   \n",
       "504                 0.0                 0.0                 0.0   \n",
       "904                 0.0                 0.0                 0.0   \n",
       "\n",
       "     ORIGIN_AIRPORT_TPA  ORIGIN_AIRPORT_TUL  ORIGIN_AIRPORT_XNA  TAXI_IN  \\\n",
       "363                 0.0                 0.0                 0.0      8.0   \n",
       "302                 0.0                 0.0                 0.0     10.0   \n",
       "858                 0.0                 0.0                 0.0      5.0   \n",
       "504                 0.0                 0.0                 0.0      5.0   \n",
       "904                 0.0                 0.0                 0.0      5.0   \n",
       "\n",
       "     TAXI_OUT  \n",
       "363      17.0  \n",
       "302      15.0  \n",
       "858      10.0  \n",
       "504      28.0  \n",
       "904      12.0  \n",
       "\n",
       "[5 rows x 101 columns]"
      ]
     },
     "execution_count": 11,
     "metadata": {},
     "output_type": "execute_result"
    }
   ],
   "source": [
    "X.head()"
   ]
  },
  {
   "cell_type": "code",
   "execution_count": 6,
   "metadata": {},
   "outputs": [
    {
     "data": {
      "text/plain": [
       "Index(['AIR_TIME', 'DAY_1', 'DAY_OF_WEEK_4', 'DESTINATION_AIRPORT_ATL',\n",
       "       'DESTINATION_AIRPORT_BNA', 'DESTINATION_AIRPORT_BUF',\n",
       "       'DESTINATION_AIRPORT_CLT', 'DESTINATION_AIRPORT_DEN',\n",
       "       'DESTINATION_AIRPORT_DFW', 'DESTINATION_AIRPORT_DTW',\n",
       "       'DESTINATION_AIRPORT_EWR', 'DESTINATION_AIRPORT_FLL',\n",
       "       'DESTINATION_AIRPORT_HNL', 'DESTINATION_AIRPORT_IAH',\n",
       "       'DESTINATION_AIRPORT_JAX', 'DESTINATION_AIRPORT_JFK',\n",
       "       'DESTINATION_AIRPORT_LAS', 'DESTINATION_AIRPORT_LAX',\n",
       "       'DESTINATION_AIRPORT_LGA', 'DESTINATION_AIRPORT_LIH',\n",
       "       'DESTINATION_AIRPORT_MCO', 'DESTINATION_AIRPORT_MIA',\n",
       "       'DESTINATION_AIRPORT_MSP', 'DESTINATION_AIRPORT_ONT',\n",
       "       'DESTINATION_AIRPORT_ORD', 'DESTINATION_AIRPORT_PHX',\n",
       "       'DESTINATION_AIRPORT_PSP', 'DESTINATION_AIRPORT_RIC',\n",
       "       'DESTINATION_AIRPORT_SEA', 'DESTINATION_AIRPORT_SFO',\n",
       "       'DESTINATION_AIRPORT_SLC', 'DESTINATION_AIRPORT_TPA',\n",
       "       'DESTINATION_AIRPORT_TTN', 'DISTANCE', 'MONTH_1', 'ORIGIN_AIRPORT_ATL',\n",
       "       'ORIGIN_AIRPORT_AUS', 'ORIGIN_AIRPORT_BDL', 'ORIGIN_AIRPORT_BOI',\n",
       "       'ORIGIN_AIRPORT_BOS', 'ORIGIN_AIRPORT_BTR', 'ORIGIN_AIRPORT_BUF',\n",
       "       'ORIGIN_AIRPORT_BWI', 'ORIGIN_AIRPORT_CAK', 'ORIGIN_AIRPORT_CLE',\n",
       "       'ORIGIN_AIRPORT_COS', 'ORIGIN_AIRPORT_CRP', 'ORIGIN_AIRPORT_DCA',\n",
       "       'ORIGIN_AIRPORT_DEN', 'ORIGIN_AIRPORT_EUG', 'ORIGIN_AIRPORT_EWR',\n",
       "       'ORIGIN_AIRPORT_FAT', 'ORIGIN_AIRPORT_FLL', 'ORIGIN_AIRPORT_GEG',\n",
       "       'ORIGIN_AIRPORT_GRB', 'ORIGIN_AIRPORT_GTF', 'ORIGIN_AIRPORT_HSV',\n",
       "       'ORIGIN_AIRPORT_IAD', 'ORIGIN_AIRPORT_IAH', 'ORIGIN_AIRPORT_ISN',\n",
       "       'ORIGIN_AIRPORT_JFK', 'ORIGIN_AIRPORT_LAS', 'ORIGIN_AIRPORT_LAX',\n",
       "       'ORIGIN_AIRPORT_LEX', 'ORIGIN_AIRPORT_LGA', 'ORIGIN_AIRPORT_MCI',\n",
       "       'ORIGIN_AIRPORT_MCO', 'ORIGIN_AIRPORT_MDW', 'ORIGIN_AIRPORT_MEM',\n",
       "       'ORIGIN_AIRPORT_MFR', 'ORIGIN_AIRPORT_MIA', 'ORIGIN_AIRPORT_MKE',\n",
       "       'ORIGIN_AIRPORT_MLU', 'ORIGIN_AIRPORT_MSN', 'ORIGIN_AIRPORT_MSP',\n",
       "       'ORIGIN_AIRPORT_OAK', 'ORIGIN_AIRPORT_ONT', 'ORIGIN_AIRPORT_ORD',\n",
       "       'ORIGIN_AIRPORT_PBI', 'ORIGIN_AIRPORT_PDX', 'ORIGIN_AIRPORT_PHL',\n",
       "       'ORIGIN_AIRPORT_PSE', 'ORIGIN_AIRPORT_PSP', 'ORIGIN_AIRPORT_PVD',\n",
       "       'ORIGIN_AIRPORT_PWM', 'ORIGIN_AIRPORT_RDU', 'ORIGIN_AIRPORT_RIC',\n",
       "       'ORIGIN_AIRPORT_SAN', 'ORIGIN_AIRPORT_SAT', 'ORIGIN_AIRPORT_SBP',\n",
       "       'ORIGIN_AIRPORT_SEA', 'ORIGIN_AIRPORT_SFO', 'ORIGIN_AIRPORT_SJC',\n",
       "       'ORIGIN_AIRPORT_SLC', 'ORIGIN_AIRPORT_SNA', 'ORIGIN_AIRPORT_TPA',\n",
       "       'ORIGIN_AIRPORT_TUL', 'ORIGIN_AIRPORT_XNA', 'TAXI_IN', 'TAXI_OUT'],\n",
       "      dtype='object')"
      ]
     },
     "execution_count": 6,
     "metadata": {},
     "output_type": "execute_result"
    }
   ],
   "source": [
    "X.columns"
   ]
  },
  {
   "cell_type": "code",
   "execution_count": 7,
   "metadata": {},
   "outputs": [
    {
     "name": "stdout",
     "output_type": "stream",
     "text": [
      "R cuadrado:  0.9578441674827936\n"
     ]
    }
   ],
   "source": [
    "regr = linear_model.LinearRegression()\n",
    "regr.fit(X, Y)\n",
    "\n",
    "Y_pred = regr.predict(X)\n",
    "print(\"R cuadrado: \", r2_score(Y, Y_pred))"
   ]
  },
  {
   "cell_type": "code",
   "execution_count": 8,
   "metadata": {},
   "outputs": [],
   "source": [
    "X = X.add(df[['DEPARTURE_DELAY']], fill_value = 0)#hace cero valores perdidos"
   ]
  },
  {
   "cell_type": "code",
   "execution_count": 9,
   "metadata": {},
   "outputs": [
    {
     "name": "stdout",
     "output_type": "stream",
     "text": [
      "R cuadrado:  0.9988913785282569\n"
     ]
    }
   ],
   "source": [
    "regr = linear_model.LinearRegression()\n",
    "regr.fit(X, Y)\n",
    "\n",
    "Y_pred = regr.predict(X)\n",
    "print(\"R cuadrado: \", r2_score(Y, Y_pred))"
   ]
  },
  {
   "cell_type": "markdown",
   "metadata": {},
   "source": [
    "LOGISTIC"
   ]
  },
  {
   "cell_type": "code",
   "execution_count": 12,
   "metadata": {},
   "outputs": [],
   "source": [
    "from sklearn.linear_model import LogisticRegression\n",
    "from sklearn.metrics import confusion_matrix\n",
    "%matplotlib inline"
   ]
  },
  {
   "cell_type": "code",
   "execution_count": 13,
   "metadata": {},
   "outputs": [],
   "source": [
    "Y = df[\"ARRIVAL_DELAY\"] < 30\n",
    "X = df[[\"DEPARTURE_DELAY\"]]"
   ]
  },
  {
   "cell_type": "code",
   "execution_count": 14,
   "metadata": {},
   "outputs": [
    {
     "name": "stderr",
     "output_type": "stream",
     "text": [
      "/usr/local/lib/python3.6/dist-packages/sklearn/linear_model/logistic.py:433: FutureWarning: Default solver will be changed to 'lbfgs' in 0.22. Specify a solver to silence this warning.\n",
      "  FutureWarning)\n"
     ]
    }
   ],
   "source": [
    "logreg = LogisticRegression()\n",
    "logreg.fit(X, Y)\n",
    "Y_pred = logreg.predict(X)"
   ]
  },
  {
   "cell_type": "code",
   "execution_count": 15,
   "metadata": {},
   "outputs": [
    {
     "data": {
      "text/plain": [
       "array([[0.021, 0.979],\n",
       "       [0.023, 0.977],\n",
       "       [0.029, 0.971],\n",
       "       [0.039, 0.961],\n",
       "       [0.018, 0.982],\n",
       "       [0.042, 0.958],\n",
       "       [0.042, 0.958],\n",
       "       [0.031, 0.969],\n",
       "       [0.036, 0.964],\n",
       "       [0.045, 0.955],\n",
       "       [0.052, 0.948],\n",
       "       [0.029, 0.971],\n",
       "       [0.017, 0.983],\n",
       "       [0.029, 0.971],\n",
       "       [0.036, 0.964],\n",
       "       [0.031, 0.969],\n",
       "       [0.538, 0.462],\n",
       "       [0.036, 0.964],\n",
       "       [0.285, 0.715],\n",
       "       [0.069, 0.931],\n",
       "       [0.036, 0.964],\n",
       "       [0.025, 0.975],\n",
       "       [0.025, 0.975],\n",
       "       [0.042, 0.958],\n",
       "       [0.045, 0.955],\n",
       "       [0.052, 0.948],\n",
       "       [0.027, 0.973],\n",
       "       [0.999, 0.001],\n",
       "       [0.031, 0.969],\n",
       "       [0.036, 0.964],\n",
       "       [0.098, 0.902],\n",
       "       [0.025, 0.975],\n",
       "       [1.   , 0.   ],\n",
       "       [0.023, 0.977],\n",
       "       [0.029, 0.971],\n",
       "       [0.048, 0.952],\n",
       "       [0.033, 0.967],\n",
       "       [0.085, 0.915],\n",
       "       [0.033, 0.967],\n",
       "       [0.042, 0.958],\n",
       "       [0.027, 0.973],\n",
       "       [0.021, 0.979],\n",
       "       [1.   , 0.   ],\n",
       "       [0.027, 0.973],\n",
       "       [0.023, 0.977],\n",
       "       [0.039, 0.961],\n",
       "       [0.098, 0.902],\n",
       "       [0.042, 0.958],\n",
       "       [0.031, 0.969],\n",
       "       [0.036, 0.964],\n",
       "       [0.029, 0.971],\n",
       "       [0.033, 0.967],\n",
       "       [0.036, 0.964],\n",
       "       [0.023, 0.977],\n",
       "       [0.045, 0.955],\n",
       "       [0.033, 0.967],\n",
       "       [0.031, 0.969],\n",
       "       [0.023, 0.977],\n",
       "       [0.039, 0.961],\n",
       "       [0.048, 0.952],\n",
       "       [0.039, 0.961],\n",
       "       [0.157, 0.843],\n",
       "       [0.039, 0.961],\n",
       "       [0.997, 0.003],\n",
       "       [0.033, 0.967],\n",
       "       [0.018, 0.982],\n",
       "       [0.027, 0.973],\n",
       "       [0.033, 0.967],\n",
       "       [0.999, 0.001],\n",
       "       [0.023, 0.977],\n",
       "       [0.036, 0.964],\n",
       "       [0.033, 0.967],\n",
       "       [0.033, 0.967],\n",
       "       [0.042, 0.958],\n",
       "       [0.033, 0.967],\n",
       "       [0.025, 0.975],\n",
       "       [0.074, 0.926],\n",
       "       [0.045, 0.955],\n",
       "       [0.092, 0.908],\n",
       "       [0.021, 0.979],\n",
       "       [0.039, 0.961],\n",
       "       [0.036, 0.964],\n",
       "       [0.033, 0.967],\n",
       "       [0.178, 0.822],\n",
       "       [0.129, 0.871],\n",
       "       [0.045, 0.955],\n",
       "       [0.025, 0.975],\n",
       "       [0.027, 0.973],\n",
       "       [0.031, 0.969],\n",
       "       [0.039, 0.961],\n",
       "       [0.042, 0.958],\n",
       "       [0.031, 0.969],\n",
       "       [0.074, 0.926],\n",
       "       [0.042, 0.958],\n",
       "       [0.039, 0.961],\n",
       "       [0.113, 0.887],\n",
       "       [0.031, 0.969],\n",
       "       [0.029, 0.971],\n",
       "       [0.138, 0.862],\n",
       "       [0.351, 0.649]])"
      ]
     },
     "execution_count": 15,
     "metadata": {},
     "output_type": "execute_result"
    }
   ],
   "source": [
    "np.round(logreg.predict_proba(X), 3)"
   ]
  },
  {
   "cell_type": "code",
   "execution_count": 17,
   "metadata": {},
   "outputs": [
    {
     "data": {
      "text/plain": [
       "0.97"
      ]
     },
     "execution_count": 17,
     "metadata": {},
     "output_type": "execute_result"
    }
   ],
   "source": [
    "np.mean(Y_pred == Y)"
   ]
  },
  {
   "cell_type": "code",
   "execution_count": 18,
   "metadata": {},
   "outputs": [
    {
     "data": {
      "text/plain": [
       "0.93"
      ]
     },
     "execution_count": 18,
     "metadata": {},
     "output_type": "execute_result"
    }
   ],
   "source": [
    "np.mean(Y)"
   ]
  },
  {
   "cell_type": "code",
   "execution_count": 19,
   "metadata": {},
   "outputs": [
    {
     "name": "stdout",
     "output_type": "stream",
     "text": [
      "[[ 5  2]\n",
      " [ 1 92]]\n"
     ]
    }
   ],
   "source": [
    "confusion_matrix = confusion_matrix(Y, Y_pred)\n",
    "print(confusion_matrix)"
   ]
  },
  {
   "cell_type": "markdown",
   "metadata": {},
   "source": [
    "NAIVE BAYES"
   ]
  },
  {
   "cell_type": "code",
   "execution_count": 21,
   "metadata": {},
   "outputs": [],
   "source": [
    "from sklearn.naive_bayes import BernoulliNB\n",
    "from sklearn.naive_bayes import MultinomialNB\n",
    "from sklearn.naive_bayes import GaussianNB"
   ]
  },
  {
   "cell_type": "code",
   "execution_count": 22,
   "metadata": {},
   "outputs": [],
   "source": [
    "Y = df[\"ARRIVAL_DELAY\"] > 0"
   ]
  },
  {
   "cell_type": "code",
   "execution_count": 23,
   "metadata": {},
   "outputs": [],
   "source": [
    "df[\"MONTH\"] = df[\"MONTH\"].apply(str)\n",
    "df[\"DAY\"] = df[\"DAY\"].apply(str)\n",
    "df[\"DAY_OF_WEEK\"] = df[\"DAY_OF_WEEK\"].apply(str)\n",
    "df[\"TAIL_NUMBER\"] = df[\"TAIL_NUMBER\"].apply(str)\n",
    "\n",
    "X = pd.get_dummies(data = df[[\"MONTH\", \"DAY\", \"DAY_OF_WEEK\", \"ORIGIN_AIRPORT\", \"DESTINATION_AIRPORT\"]])"
   ]
  },
  {
   "cell_type": "code",
   "execution_count": 24,
   "metadata": {},
   "outputs": [],
   "source": [
    "clf = BernoulliNB()\n",
    "clf.fit(X, Y)\n",
    "Y_pred = clf.predict(X)"
   ]
  },
  {
   "cell_type": "code",
   "execution_count": 26,
   "metadata": {},
   "outputs": [
    {
     "data": {
      "text/plain": [
       "0.78"
      ]
     },
     "execution_count": 26,
     "metadata": {},
     "output_type": "execute_result"
    }
   ],
   "source": [
    "np.mean(Y == Y_pred)"
   ]
  },
  {
   "cell_type": "code",
   "execution_count": 28,
   "metadata": {},
   "outputs": [
    {
     "data": {
      "text/plain": [
       "0.72"
      ]
     },
     "execution_count": 28,
     "metadata": {},
     "output_type": "execute_result"
    }
   ],
   "source": [
    "1-np.mean(Y)"
   ]
  },
  {
   "cell_type": "code",
   "execution_count": 29,
   "metadata": {},
   "outputs": [],
   "source": [
    "X = df[[\"AIR_TIME\", \"DISTANCE\", \"TAXI_IN\", \"TAXI_OUT\", \"DEPARTURE_DELAY\"]]\n",
    "clf = GaussianNB()\n",
    "clf.fit(X, Y)\n",
    "Y_pred = clf.predict(X)"
   ]
  },
  {
   "cell_type": "code",
   "execution_count": 31,
   "metadata": {},
   "outputs": [
    {
     "data": {
      "text/plain": [
       "0.82"
      ]
     },
     "execution_count": 31,
     "metadata": {},
     "output_type": "execute_result"
    }
   ],
   "source": [
    "np.mean(Y == Y_pred)"
   ]
  }
 ],
 "metadata": {
  "kernelspec": {
   "display_name": "Python 3",
   "language": "python",
   "name": "python3"
  },
  "language_info": {
   "codemirror_mode": {
    "name": "ipython",
    "version": 3
   },
   "file_extension": ".py",
   "mimetype": "text/x-python",
   "name": "python",
   "nbconvert_exporter": "python",
   "pygments_lexer": "ipython3",
   "version": "3.6.7"
  }
 },
 "nbformat": 4,
 "nbformat_minor": 2
}
