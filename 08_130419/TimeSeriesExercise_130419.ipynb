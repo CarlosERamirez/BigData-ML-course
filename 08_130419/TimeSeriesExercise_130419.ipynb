{
 "cells": [
  {
   "cell_type": "code",
   "execution_count": 1,
   "metadata": {},
   "outputs": [],
   "source": [
    "import pyspark\n",
    "from pyspark import SparkConf, SparkContext\n",
    "conf = SparkConf().setMaster('local')\n",
    "\n",
    "sc.stop()\n",
    "sc = SparkContext(conf = conf)\n",
    "from pyspark.sql import SparkSession\n",
    "spark = SparkSession.builder.getOrCreate()"
   ]
  },
  {
   "cell_type": "code",
   "execution_count": 2,
   "metadata": {},
   "outputs": [],
   "source": [
    "#cargar la base de datos\n",
    "df = spark.read.option('header', 'true').csv('carpetas-de-investigacion-pgj-cdmx.csv', sep = ';')"
   ]
  },
  {
   "cell_type": "code",
   "execution_count": 3,
   "metadata": {},
   "outputs": [
    {
     "name": "stdout",
     "output_type": "stream",
     "text": [
      "root\n",
      " |-- Año: string (nullable = true)\n",
      " |-- Mes: string (nullable = true)\n",
      " |-- Alcaldía: string (nullable = true)\n",
      " |-- Categoría de delito: string (nullable = true)\n",
      " |-- Delito: string (nullable = true)\n",
      " |-- Agencia: string (nullable = true)\n",
      " |-- Unidad de investigación: string (nullable = true)\n",
      " |-- Fecha inicio: string (nullable = true)\n",
      " |-- Fiscalía: string (nullable = true)\n",
      " |-- Calle1: string (nullable = true)\n",
      " |-- Calle2: string (nullable = true)\n",
      " |-- Colonia: string (nullable = true)\n",
      " |-- Latitud: string (nullable = true)\n",
      " |-- Longitud: string (nullable = true)\n",
      " |-- Mes y año: string (nullable = true)\n",
      " |-- Geopoint: string (nullable = true)\n",
      "\n"
     ]
    }
   ],
   "source": [
    "df.printSchema()"
   ]
  },
  {
   "cell_type": "code",
   "execution_count": 65,
   "metadata": {},
   "outputs": [
    {
     "name": "stdout",
     "output_type": "stream",
     "text": [
      "+---------+--------------------+---------+\n",
      "| Alcaldía| Categoría de delito|Mes y año|\n",
      "+---------+--------------------+---------+\n",
      "|IZTACALCO|DELITO DE BAJO IM...|  2016-05|\n",
      "|IZTACALCO|DELITO DE BAJO IM...|  2016-05|\n",
      "|IZTACALCO|DELITO DE BAJO IM...|  2016-05|\n",
      "|IZTACALCO|DELITO DE BAJO IM...|  2016-05|\n",
      "|IZTACALCO|DELITO DE BAJO IM...|  2016-01|\n",
      "|IZTACALCO|DELITO DE BAJO IM...|  2016-01|\n",
      "|IZTACALCO|DELITO DE BAJO IM...|  2016-01|\n",
      "|IZTACALCO|DELITO DE BAJO IM...|  2016-01|\n",
      "|IZTACALCO|DELITO DE BAJO IM...|  2016-01|\n",
      "|IZTACALCO|DELITO DE BAJO IM...|  2017-03|\n",
      "|IZTACALCO|DELITO DE BAJO IM...|  2017-03|\n",
      "|IZTACALCO|DELITO DE BAJO IM...|  2017-03|\n",
      "|IZTACALCO|  HECHO NO DELICTIVO|  2017-03|\n",
      "|IZTACALCO|DELITO DE BAJO IM...|  2017-03|\n",
      "|IZTACALCO|DELITO DE BAJO IM...|  2017-03|\n",
      "|IZTACALCO|ROBO A TRANSEUNTE...|  2016-11|\n",
      "|IZTACALCO|DELITO DE BAJO IM...|  2016-11|\n",
      "|IZTACALCO|  HECHO NO DELICTIVO|  2016-11|\n",
      "|IZTACALCO|DELITO DE BAJO IM...|  2016-11|\n",
      "|IZTACALCO|DELITO DE BAJO IM...|  2017-03|\n",
      "+---------+--------------------+---------+\n",
      "only showing top 20 rows\n",
      "\n"
     ]
    }
   ],
   "source": [
    "df1 = df.select(['Alcaldía', 'Categoría de delito','Mes y año'])\n",
    "df1 = df1.filter(df1['Alcaldía'] == 'IZTACALCO')#filtra por alcaldía\n",
    "\n",
    "df1.show()"
   ]
  },
  {
   "cell_type": "code",
   "execution_count": 66,
   "metadata": {},
   "outputs": [
    {
     "name": "stdout",
     "output_type": "stream",
     "text": [
      "+--------------------+---------+-----+\n",
      "| Categoría de delito|Mes y año|count|\n",
      "+--------------------+---------+-----+\n",
      "|ROBO A PASAJERO A...|  2016-08|    1|\n",
      "|ROBO A PASAJERO A...|  2017-04|    7|\n",
      "|ROBO A CUENTAHABI...|  2018-09|    1|\n",
      "|           VIOLACIÓN|  2017-11|    1|\n",
      "|ROBO DE VEHÍCULO ...|  01/2019|   71|\n",
      "|ROBO A CUENTAHABI...|  2018-05|    4|\n",
      "|ROBO A NEGOCIO CO...|  2018-01|    9|\n",
      "|ROBO DE VEHÍCULO ...|  2016-04|   47|\n",
      "|ROBO A TRANSEUNTE...|  2016-01|   29|\n",
      "|DELITO DE BAJO IM...|  2017-09|  686|\n",
      "|ROBO A PASAJERO A...|  2017-07|    4|\n",
      "|DELITO DE BAJO IM...|  2018-12|  744|\n",
      "|           VIOLACIÓN|  2017-01|    2|\n",
      "|ROBO A PASAJERO A...|  2018-02|    1|\n",
      "|           VIOLACIÓN|  2017-04|    1|\n",
      "|ROBO A PASAJERO A...|   feb-19|   32|\n",
      "|ROBO A REPARTIDOR...|  2016-02|    7|\n",
      "|ROBO DE VEHÍCULO ...|  2018-05|   38|\n",
      "|ROBO DE VEHÍCULO ...|  2018-02|   32|\n",
      "|           VIOLACIÓN|  2016-11|    2|\n",
      "+--------------------+---------+-----+\n",
      "only showing top 20 rows\n",
      "\n"
     ]
    }
   ],
   "source": [
    "time_df = df1.groupby(\"Categoría de delito\", \"Mes y año\").count()#agrupa por categoría para contar delitos\n",
    "time_df.show()"
   ]
  },
  {
   "cell_type": "code",
   "execution_count": 68,
   "metadata": {},
   "outputs": [],
   "source": [
    "newdf = df1[[\"Categoría de delito\", \"Mes y año\"]].dropna()"
   ]
  },
  {
   "cell_type": "code",
   "execution_count": 69,
   "metadata": {},
   "outputs": [
    {
     "name": "stdout",
     "output_type": "stream",
     "text": [
      "+--------------------+---------+\n",
      "| Categoría de delito|Mes y año|\n",
      "+--------------------+---------+\n",
      "|DELITO DE BAJO IM...|  2016-05|\n",
      "|DELITO DE BAJO IM...|  2016-05|\n",
      "|DELITO DE BAJO IM...|  2016-05|\n",
      "|DELITO DE BAJO IM...|  2016-05|\n",
      "|DELITO DE BAJO IM...|  2016-01|\n",
      "|DELITO DE BAJO IM...|  2016-01|\n",
      "|DELITO DE BAJO IM...|  2016-01|\n",
      "|DELITO DE BAJO IM...|  2016-01|\n",
      "|DELITO DE BAJO IM...|  2016-01|\n",
      "|DELITO DE BAJO IM...|  2017-03|\n",
      "|DELITO DE BAJO IM...|  2017-03|\n",
      "|DELITO DE BAJO IM...|  2017-03|\n",
      "|  HECHO NO DELICTIVO|  2017-03|\n",
      "|DELITO DE BAJO IM...|  2017-03|\n",
      "|DELITO DE BAJO IM...|  2017-03|\n",
      "|ROBO A TRANSEUNTE...|  2016-11|\n",
      "|DELITO DE BAJO IM...|  2016-11|\n",
      "|  HECHO NO DELICTIVO|  2016-11|\n",
      "|DELITO DE BAJO IM...|  2016-11|\n",
      "|DELITO DE BAJO IM...|  2017-03|\n",
      "+--------------------+---------+\n",
      "only showing top 20 rows\n",
      "\n"
     ]
    }
   ],
   "source": [
    "newdf.show()"
   ]
  },
  {
   "cell_type": "code",
   "execution_count": 84,
   "metadata": {},
   "outputs": [
    {
     "data": {
      "text/html": [
       "<div>\n",
       "<style scoped>\n",
       "    .dataframe tbody tr th:only-of-type {\n",
       "        vertical-align: middle;\n",
       "    }\n",
       "\n",
       "    .dataframe tbody tr th {\n",
       "        vertical-align: top;\n",
       "    }\n",
       "\n",
       "    .dataframe thead th {\n",
       "        text-align: right;\n",
       "    }\n",
       "</style>\n",
       "<table border=\"1\" class=\"dataframe\">\n",
       "  <thead>\n",
       "    <tr style=\"text-align: right;\">\n",
       "      <th></th>\n",
       "      <th>Categoría de delito</th>\n",
       "    </tr>\n",
       "    <tr>\n",
       "      <th>Mes y año</th>\n",
       "      <th></th>\n",
       "    </tr>\n",
       "  </thead>\n",
       "  <tbody>\n",
       "    <tr>\n",
       "      <th>2016-05</th>\n",
       "      <td>DELITO DE BAJO IMPACTO</td>\n",
       "    </tr>\n",
       "    <tr>\n",
       "      <th>2016-05</th>\n",
       "      <td>DELITO DE BAJO IMPACTO</td>\n",
       "    </tr>\n",
       "    <tr>\n",
       "      <th>2016-05</th>\n",
       "      <td>DELITO DE BAJO IMPACTO</td>\n",
       "    </tr>\n",
       "    <tr>\n",
       "      <th>2016-05</th>\n",
       "      <td>DELITO DE BAJO IMPACTO</td>\n",
       "    </tr>\n",
       "    <tr>\n",
       "      <th>2016-01</th>\n",
       "      <td>DELITO DE BAJO IMPACTO</td>\n",
       "    </tr>\n",
       "  </tbody>\n",
       "</table>\n",
       "</div>"
      ],
      "text/plain": [
       "              Categoría de delito\n",
       "Mes y año                        \n",
       "2016-05    DELITO DE BAJO IMPACTO\n",
       "2016-05    DELITO DE BAJO IMPACTO\n",
       "2016-05    DELITO DE BAJO IMPACTO\n",
       "2016-05    DELITO DE BAJO IMPACTO\n",
       "2016-01    DELITO DE BAJO IMPACTO"
      ]
     },
     "execution_count": 84,
     "metadata": {},
     "output_type": "execute_result"
    }
   ],
   "source": [
    "import pandas as pd\n",
    "\n",
    "pandas_df = newdf.toPandas()\n",
    "pandas_df.set_index('Mes y año', inplace = True)#cambia índice por columna mes y año\n",
    "pandas_df.head()"
   ]
  },
  {
   "cell_type": "code",
   "execution_count": 85,
   "metadata": {},
   "outputs": [
    {
     "name": "stdout",
     "output_type": "stream",
     "text": [
      "['DELITO DE BAJO IMPACTO' 'HECHO NO DELICTIVO' 'HOMICIDIO DOLOSO'\n",
      " 'LESIONES DOLOSAS POR DISPARO DE ARMA DE FUEGO'\n",
      " 'ROBO A CASA HABITACIÓN CON VIOLENCIA'\n",
      " 'ROBO A CUENTAHABIENTE SALIENDO DEL CAJERO CON VIOLENCIA'\n",
      " 'ROBO A NEGOCIO CON VIOLENCIA'\n",
      " 'ROBO A PASAJERO A BORDO DE MICROBUS CON Y SIN VIOLENCIA'\n",
      " 'ROBO A PASAJERO A BORDO DE TAXI CON VIOLENCIA'\n",
      " 'ROBO A PASAJERO A BORDO DEL METRO CON Y SIN VIOLENCIA'\n",
      " 'ROBO A REPARTIDOR CON Y SIN VIOLENCIA'\n",
      " 'ROBO A TRANSEUNTE EN VÍA PÚBLICA CON Y SIN VIOLENCIA'\n",
      " 'ROBO A TRANSPORTISTA CON Y SIN VIOLENCIA'\n",
      " 'ROBO DE VEHÍCULO CON Y SIN VIOLENCIA' 'SECUESTRO' 'VIOLACIÓN']\n"
     ]
    }
   ],
   "source": [
    "#from sklearn import preprocessing\n",
    "import numpy as np\n",
    "\n",
    "alcaldias = np.unique(pandas_df[\"Categoría de delito\"])\n",
    "print(alcaldias)"
   ]
  },
  {
   "cell_type": "code",
   "execution_count": 86,
   "metadata": {},
   "outputs": [
    {
     "data": {
      "text/plain": [
       "[['DELITO DE BAJO IMPACTO', 0],\n",
       " ['HECHO NO DELICTIVO', 1],\n",
       " ['HOMICIDIO DOLOSO', 2],\n",
       " ['LESIONES DOLOSAS POR DISPARO DE ARMA DE FUEGO', 3],\n",
       " ['ROBO A CASA HABITACIÓN CON VIOLENCIA', 4],\n",
       " ['ROBO A CUENTAHABIENTE SALIENDO DEL CAJERO CON VIOLENCIA', 5],\n",
       " ['ROBO A NEGOCIO CON VIOLENCIA', 6],\n",
       " ['ROBO A PASAJERO A BORDO DE MICROBUS CON Y SIN VIOLENCIA', 7],\n",
       " ['ROBO A PASAJERO A BORDO DE TAXI CON VIOLENCIA', 8],\n",
       " ['ROBO A PASAJERO A BORDO DEL METRO CON Y SIN VIOLENCIA', 9],\n",
       " ['ROBO A REPARTIDOR CON Y SIN VIOLENCIA', 10],\n",
       " ['ROBO A TRANSEUNTE EN VÍA PÚBLICA CON Y SIN VIOLENCIA', 11],\n",
       " ['ROBO A TRANSPORTISTA CON Y SIN VIOLENCIA', 12],\n",
       " ['ROBO DE VEHÍCULO CON Y SIN VIOLENCIA', 13],\n",
       " ['SECUESTRO', 14],\n",
       " ['VIOLACIÓN', 15]]"
      ]
     },
     "execution_count": 86,
     "metadata": {},
     "output_type": "execute_result"
    }
   ],
   "source": [
    "numAlcaldias = []\n",
    "for i in range(len(alcaldias)):\n",
    "    numAlcaldias.append([alcaldias[i], i])\n",
    "    \n",
    "numAlcaldias"
   ]
  },
  {
   "cell_type": "code",
   "execution_count": 87,
   "metadata": {},
   "outputs": [],
   "source": [
    "for i in range(len(numAlcaldias)):\n",
    "    pandas_df.replace(to_replace = numAlcaldias[i][0], value = numAlcaldias[i][1], inplace = True)"
   ]
  },
  {
   "cell_type": "code",
   "execution_count": 88,
   "metadata": {},
   "outputs": [
    {
     "data": {
      "text/plain": [
       "array([2, 2, 2, ..., 3, 2, 2], dtype=int32)"
      ]
     },
     "execution_count": 88,
     "metadata": {},
     "output_type": "execute_result"
    }
   ],
   "source": [
    "from sklearn.cluster import KMeans\n",
    "kmeans = KMeans(n_clusters = 16, n_jobs = -1).fit(pandas_df)\n",
    "kmeans.labels_"
   ]
  },
  {
   "cell_type": "code",
   "execution_count": 90,
   "metadata": {},
   "outputs": [
    {
     "ename": "KeyError",
     "evalue": "'Mes y año'",
     "output_type": "error",
     "traceback": [
      "\u001b[0;31m---------------------------------------------------------------------------\u001b[0m",
      "\u001b[0;31mKeyError\u001b[0m                                  Traceback (most recent call last)",
      "\u001b[0;32m/usr/local/lib/python3.6/dist-packages/pandas/core/indexes/base.py\u001b[0m in \u001b[0;36mget_loc\u001b[0;34m(self, key, method, tolerance)\u001b[0m\n\u001b[1;32m   2655\u001b[0m             \u001b[0;32mtry\u001b[0m\u001b[0;34m:\u001b[0m\u001b[0;34m\u001b[0m\u001b[0;34m\u001b[0m\u001b[0m\n\u001b[0;32m-> 2656\u001b[0;31m                 \u001b[0;32mreturn\u001b[0m \u001b[0mself\u001b[0m\u001b[0;34m.\u001b[0m\u001b[0m_engine\u001b[0m\u001b[0;34m.\u001b[0m\u001b[0mget_loc\u001b[0m\u001b[0;34m(\u001b[0m\u001b[0mkey\u001b[0m\u001b[0;34m)\u001b[0m\u001b[0;34m\u001b[0m\u001b[0;34m\u001b[0m\u001b[0m\n\u001b[0m\u001b[1;32m   2657\u001b[0m             \u001b[0;32mexcept\u001b[0m \u001b[0mKeyError\u001b[0m\u001b[0;34m:\u001b[0m\u001b[0;34m\u001b[0m\u001b[0;34m\u001b[0m\u001b[0m\n",
      "\u001b[0;32mpandas/_libs/index.pyx\u001b[0m in \u001b[0;36mpandas._libs.index.IndexEngine.get_loc\u001b[0;34m()\u001b[0m\n",
      "\u001b[0;32mpandas/_libs/index.pyx\u001b[0m in \u001b[0;36mpandas._libs.index.IndexEngine.get_loc\u001b[0;34m()\u001b[0m\n",
      "\u001b[0;32mpandas/_libs/hashtable_class_helper.pxi\u001b[0m in \u001b[0;36mpandas._libs.hashtable.PyObjectHashTable.get_item\u001b[0;34m()\u001b[0m\n",
      "\u001b[0;32mpandas/_libs/hashtable_class_helper.pxi\u001b[0m in \u001b[0;36mpandas._libs.hashtable.PyObjectHashTable.get_item\u001b[0;34m()\u001b[0m\n",
      "\u001b[0;31mKeyError\u001b[0m: 'Mes y año'",
      "\nDuring handling of the above exception, another exception occurred:\n",
      "\u001b[0;31mKeyError\u001b[0m                                  Traceback (most recent call last)",
      "\u001b[0;32m<ipython-input-90-c07dd45a07e8>\u001b[0m in \u001b[0;36m<module>\u001b[0;34m\u001b[0m\n\u001b[1;32m      1\u001b[0m \u001b[0;32mimport\u001b[0m \u001b[0mmatplotlib\u001b[0m\u001b[0;34m.\u001b[0m\u001b[0mpyplot\u001b[0m \u001b[0;32mas\u001b[0m \u001b[0mplt\u001b[0m\u001b[0;34m\u001b[0m\u001b[0;34m\u001b[0m\u001b[0m\n\u001b[0;32m----> 2\u001b[0;31m \u001b[0mplt\u001b[0m\u001b[0;34m.\u001b[0m\u001b[0mscatter\u001b[0m\u001b[0;34m(\u001b[0m\u001b[0mpandas_df\u001b[0m\u001b[0;34m[\u001b[0m\u001b[0;34m\"Categoría de delito\"\u001b[0m\u001b[0;34m]\u001b[0m\u001b[0;34m,\u001b[0m \u001b[0mpandas_df\u001b[0m\u001b[0;34m[\u001b[0m\u001b[0;34m\"Mes y año\"\u001b[0m\u001b[0;34m]\u001b[0m\u001b[0;34m,\u001b[0m \u001b[0mc\u001b[0m \u001b[0;34m=\u001b[0m \u001b[0mkmeans\u001b[0m\u001b[0;34m.\u001b[0m\u001b[0mlabels_\u001b[0m\u001b[0;34m)\u001b[0m\u001b[0;34m\u001b[0m\u001b[0;34m\u001b[0m\u001b[0m\n\u001b[0m\u001b[1;32m      3\u001b[0m \u001b[0mplt\u001b[0m\u001b[0;34m.\u001b[0m\u001b[0mshow\u001b[0m\u001b[0;34m(\u001b[0m\u001b[0;34m)\u001b[0m\u001b[0;34m\u001b[0m\u001b[0;34m\u001b[0m\u001b[0m\n",
      "\u001b[0;32m/usr/local/lib/python3.6/dist-packages/pandas/core/frame.py\u001b[0m in \u001b[0;36m__getitem__\u001b[0;34m(self, key)\u001b[0m\n\u001b[1;32m   2925\u001b[0m             \u001b[0;32mif\u001b[0m \u001b[0mself\u001b[0m\u001b[0;34m.\u001b[0m\u001b[0mcolumns\u001b[0m\u001b[0;34m.\u001b[0m\u001b[0mnlevels\u001b[0m \u001b[0;34m>\u001b[0m \u001b[0;36m1\u001b[0m\u001b[0;34m:\u001b[0m\u001b[0;34m\u001b[0m\u001b[0;34m\u001b[0m\u001b[0m\n\u001b[1;32m   2926\u001b[0m                 \u001b[0;32mreturn\u001b[0m \u001b[0mself\u001b[0m\u001b[0;34m.\u001b[0m\u001b[0m_getitem_multilevel\u001b[0m\u001b[0;34m(\u001b[0m\u001b[0mkey\u001b[0m\u001b[0;34m)\u001b[0m\u001b[0;34m\u001b[0m\u001b[0;34m\u001b[0m\u001b[0m\n\u001b[0;32m-> 2927\u001b[0;31m             \u001b[0mindexer\u001b[0m \u001b[0;34m=\u001b[0m \u001b[0mself\u001b[0m\u001b[0;34m.\u001b[0m\u001b[0mcolumns\u001b[0m\u001b[0;34m.\u001b[0m\u001b[0mget_loc\u001b[0m\u001b[0;34m(\u001b[0m\u001b[0mkey\u001b[0m\u001b[0;34m)\u001b[0m\u001b[0;34m\u001b[0m\u001b[0;34m\u001b[0m\u001b[0m\n\u001b[0m\u001b[1;32m   2928\u001b[0m             \u001b[0;32mif\u001b[0m \u001b[0mis_integer\u001b[0m\u001b[0;34m(\u001b[0m\u001b[0mindexer\u001b[0m\u001b[0;34m)\u001b[0m\u001b[0;34m:\u001b[0m\u001b[0;34m\u001b[0m\u001b[0;34m\u001b[0m\u001b[0m\n\u001b[1;32m   2929\u001b[0m                 \u001b[0mindexer\u001b[0m \u001b[0;34m=\u001b[0m \u001b[0;34m[\u001b[0m\u001b[0mindexer\u001b[0m\u001b[0;34m]\u001b[0m\u001b[0;34m\u001b[0m\u001b[0;34m\u001b[0m\u001b[0m\n",
      "\u001b[0;32m/usr/local/lib/python3.6/dist-packages/pandas/core/indexes/base.py\u001b[0m in \u001b[0;36mget_loc\u001b[0;34m(self, key, method, tolerance)\u001b[0m\n\u001b[1;32m   2656\u001b[0m                 \u001b[0;32mreturn\u001b[0m \u001b[0mself\u001b[0m\u001b[0;34m.\u001b[0m\u001b[0m_engine\u001b[0m\u001b[0;34m.\u001b[0m\u001b[0mget_loc\u001b[0m\u001b[0;34m(\u001b[0m\u001b[0mkey\u001b[0m\u001b[0;34m)\u001b[0m\u001b[0;34m\u001b[0m\u001b[0;34m\u001b[0m\u001b[0m\n\u001b[1;32m   2657\u001b[0m             \u001b[0;32mexcept\u001b[0m \u001b[0mKeyError\u001b[0m\u001b[0;34m:\u001b[0m\u001b[0;34m\u001b[0m\u001b[0;34m\u001b[0m\u001b[0m\n\u001b[0;32m-> 2658\u001b[0;31m                 \u001b[0;32mreturn\u001b[0m \u001b[0mself\u001b[0m\u001b[0;34m.\u001b[0m\u001b[0m_engine\u001b[0m\u001b[0;34m.\u001b[0m\u001b[0mget_loc\u001b[0m\u001b[0;34m(\u001b[0m\u001b[0mself\u001b[0m\u001b[0;34m.\u001b[0m\u001b[0m_maybe_cast_indexer\u001b[0m\u001b[0;34m(\u001b[0m\u001b[0mkey\u001b[0m\u001b[0;34m)\u001b[0m\u001b[0;34m)\u001b[0m\u001b[0;34m\u001b[0m\u001b[0;34m\u001b[0m\u001b[0m\n\u001b[0m\u001b[1;32m   2659\u001b[0m         \u001b[0mindexer\u001b[0m \u001b[0;34m=\u001b[0m \u001b[0mself\u001b[0m\u001b[0;34m.\u001b[0m\u001b[0mget_indexer\u001b[0m\u001b[0;34m(\u001b[0m\u001b[0;34m[\u001b[0m\u001b[0mkey\u001b[0m\u001b[0;34m]\u001b[0m\u001b[0;34m,\u001b[0m \u001b[0mmethod\u001b[0m\u001b[0;34m=\u001b[0m\u001b[0mmethod\u001b[0m\u001b[0;34m,\u001b[0m \u001b[0mtolerance\u001b[0m\u001b[0;34m=\u001b[0m\u001b[0mtolerance\u001b[0m\u001b[0;34m)\u001b[0m\u001b[0;34m\u001b[0m\u001b[0;34m\u001b[0m\u001b[0m\n\u001b[1;32m   2660\u001b[0m         \u001b[0;32mif\u001b[0m \u001b[0mindexer\u001b[0m\u001b[0;34m.\u001b[0m\u001b[0mndim\u001b[0m \u001b[0;34m>\u001b[0m \u001b[0;36m1\u001b[0m \u001b[0;32mor\u001b[0m \u001b[0mindexer\u001b[0m\u001b[0;34m.\u001b[0m\u001b[0msize\u001b[0m \u001b[0;34m>\u001b[0m \u001b[0;36m1\u001b[0m\u001b[0;34m:\u001b[0m\u001b[0;34m\u001b[0m\u001b[0;34m\u001b[0m\u001b[0m\n",
      "\u001b[0;32mpandas/_libs/index.pyx\u001b[0m in \u001b[0;36mpandas._libs.index.IndexEngine.get_loc\u001b[0;34m()\u001b[0m\n",
      "\u001b[0;32mpandas/_libs/index.pyx\u001b[0m in \u001b[0;36mpandas._libs.index.IndexEngine.get_loc\u001b[0;34m()\u001b[0m\n",
      "\u001b[0;32mpandas/_libs/hashtable_class_helper.pxi\u001b[0m in \u001b[0;36mpandas._libs.hashtable.PyObjectHashTable.get_item\u001b[0;34m()\u001b[0m\n",
      "\u001b[0;32mpandas/_libs/hashtable_class_helper.pxi\u001b[0m in \u001b[0;36mpandas._libs.hashtable.PyObjectHashTable.get_item\u001b[0;34m()\u001b[0m\n",
      "\u001b[0;31mKeyError\u001b[0m: 'Mes y año'"
     ]
    }
   ],
   "source": [
    "import matplotlib.pyplot as plt\n",
    "plt.scatter(pandas_df[\"Categoría de delito\"], pandas_df[\"Mes y año\"], c = kmeans.labels_)\n",
    "plt.show()"
   ]
  },
  {
   "cell_type": "code",
   "execution_count": null,
   "metadata": {},
   "outputs": [],
   "source": []
  }
 ],
 "metadata": {
  "kernelspec": {
   "display_name": "Python 3",
   "language": "python",
   "name": "python3"
  },
  "language_info": {
   "codemirror_mode": {
    "name": "ipython",
    "version": 3
   },
   "file_extension": ".py",
   "mimetype": "text/x-python",
   "name": "python",
   "nbconvert_exporter": "python",
   "pygments_lexer": "ipython3",
   "version": "3.6.7"
  }
 },
 "nbformat": 4,
 "nbformat_minor": 2
}
