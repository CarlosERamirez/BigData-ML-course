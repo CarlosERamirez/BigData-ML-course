{
 "cells": [
  {
   "cell_type": "code",
   "execution_count": 1,
   "metadata": {},
   "outputs": [],
   "source": [
    "import json\n",
    "from pymongo import MongoClient\n",
    "\n",
    "client = MongoClient('localhost', 27017)\n",
    "db = client['investigacion_db']\n",
    "collection_currency = db['investigacion']\n",
    "\n",
    "#with open(\"carpetas-de-investigacion-pgj-cdmx.json\") as f:\n",
    "#    file_data = json.load(f)\n",
    "\n",
    "#collection_currency.insert(file_data)\n",
    "client.close()"
   ]
  },
  {
   "cell_type": "code",
   "execution_count": 2,
   "metadata": {},
   "outputs": [
    {
     "name": "stdout",
     "output_type": "stream",
     "text": [
      "{'killmail_id': 75600434, 'zkb': {'locationID': 40446670, 'hash': 'f11501c6eb8e8c947ad5b327f319c2969c219d7a', 'fittedValue': 416077.43, 'totalValue': 673684.43, 'points': 1, 'npc': False, 'solo': True, 'awox': False}, '_id': ObjectId('5c8409844b54de0a967b59b6')}\n"
     ]
    }
   ],
   "source": [
    "import requests\n",
    "import pymongo\n",
    "import warnings\n",
    "warnings.filterwarnings('ignore')\n",
    "\n",
    "req = requests.get('https://zkillboard.com/api/losses/solo/')\n",
    "req.raise_for_status()\n",
    "recent_solo_losses_raw = req.json()\n",
    "\n",
    "conn = pymongo.MongoClient('localhost', 27017)\n",
    "conn.db.zkb.insert(recent_solo_losses_raw)\n",
    "\n",
    "print(recent_solo_losses_raw[0])"
   ]
  },
  {
   "cell_type": "code",
   "execution_count": 5,
   "metadata": {},
   "outputs": [
    {
     "name": "stdout",
     "output_type": "stream",
     "text": [
      "+-----------+--------------------+\n",
      "|killmail_id|                 zkb|\n",
      "+-----------+--------------------+\n",
      "|   75598276|[npc ->, totalVal...|\n",
      "|   75598274|[npc ->, totalVal...|\n",
      "|   75598264|[npc ->, totalVal...|\n",
      "|   75598261|[npc ->, totalVal...|\n",
      "|   75598257|[npc ->, totalVal...|\n",
      "|   75598241|[npc ->, totalVal...|\n",
      "|   75598240|[npc ->, totalVal...|\n",
      "|   75598239|[npc ->, totalVal...|\n",
      "|   75598231|[npc ->, totalVal...|\n",
      "|   75598230|[npc ->, totalVal...|\n",
      "|   75598227|[npc ->, totalVal...|\n",
      "|   75598214|[npc ->, totalVal...|\n",
      "|   75598172|[npc ->, totalVal...|\n",
      "|   75598170|[npc ->, totalVal...|\n",
      "|   75598165|[npc ->, totalVal...|\n",
      "|   75598155|[npc ->, totalVal...|\n",
      "|   75598153|[npc ->, totalVal...|\n",
      "|   75598150|[npc ->, totalVal...|\n",
      "|   75598149|[npc ->, totalVal...|\n",
      "|   75598142|[npc ->, totalVal...|\n",
      "+-----------+--------------------+\n",
      "only showing top 20 rows\n",
      "\n"
     ]
    }
   ],
   "source": [
    "import findspark\n",
    "findspark.init()\n",
    "\n",
    "import pyspark\n",
    "from pyspark.sql import SparkSession\n",
    "spark = SparkSession.builder.getOrCreate()#cargar sesión de spark\n",
    "\n",
    "exclude_data = {'_id': False, 'attackers': False, 'items': False}\n",
    "raw_data = list(conn.db.zkb.find({}, projection = exclude_data))\n",
    "\n",
    "df = spark.createDataFrame(raw_data)\n",
    "\n",
    "df.show()"
   ]
  },
  {
   "cell_type": "code",
   "execution_count": null,
   "metadata": {},
   "outputs": [],
   "source": []
  }
 ],
 "metadata": {
  "kernelspec": {
   "display_name": "Python 3",
   "language": "python",
   "name": "python3"
  },
  "language_info": {
   "codemirror_mode": {
    "name": "ipython",
    "version": 3
   },
   "file_extension": ".py",
   "mimetype": "text/x-python",
   "name": "python",
   "nbconvert_exporter": "python",
   "pygments_lexer": "ipython3",
   "version": "3.7.3"
  }
 },
 "nbformat": 4,
 "nbformat_minor": 2
}
